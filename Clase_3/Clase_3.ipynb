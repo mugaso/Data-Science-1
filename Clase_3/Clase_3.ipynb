{
  "nbformat": 4,
  "nbformat_minor": 0,
  "metadata": {
    "colab": {
      "provenance": [],
      "mount_file_id": "12pXWg37WDDKnY5OcbIznGjBIAg4315J0",
      "authorship_tag": "ABX9TyOvrso/Dc1YRGTkY+6Uv2Jt",
      "include_colab_link": true
    },
    "kernelspec": {
      "name": "python3",
      "display_name": "Python 3"
    },
    "language_info": {
      "name": "python"
    }
  },
  "cells": [
    {
      "cell_type": "markdown",
      "metadata": {
        "id": "view-in-github",
        "colab_type": "text"
      },
      "source": [
        "<a href=\"https://colab.research.google.com/github/mugaso/Data-Science-1/blob/main/Clase_3/Clase_3.ipynb\" target=\"_parent\"><img src=\"https://colab.research.google.com/assets/colab-badge.svg\" alt=\"Open In Colab\"/></a>"
      ]
    },
    {
      "cell_type": "code",
      "execution_count": 1,
      "metadata": {
        "id": "Bson5tT440Bs"
      },
      "outputs": [],
      "source": [
        "nombre_listas:list = [\"Alejandro\", \"Pio\", \"Pancho\"]"
      ]
    },
    {
      "cell_type": "code",
      "source": [
        "Lista_numerica = [ num for num in range(1,200,2)]\n",
        "#Lista_numerica += [\"hola mundo\"]"
      ],
      "metadata": {
        "id": "dYHEySE372L8"
      },
      "execution_count": 16,
      "outputs": []
    },
    {
      "cell_type": "code",
      "source": [
        "print(Lista_numerica)"
      ],
      "metadata": {
        "colab": {
          "base_uri": "https://localhost:8080/"
        },
        "id": "PdvG3n6C8B4D",
        "outputId": "929560e4-381c-4b2a-98d0-77bb5671c0d0"
      },
      "execution_count": 17,
      "outputs": [
        {
          "output_type": "stream",
          "name": "stdout",
          "text": [
            "[1, 3, 5, 7, 9, 11, 13, 15, 17, 19, 21, 23, 25, 27, 29, 31, 33, 35, 37, 39, 41, 43, 45, 47, 49, 51, 53, 55, 57, 59, 61, 63, 65, 67, 69, 71, 73, 75, 77, 79, 81, 83, 85, 87, 89, 91, 93, 95, 97, 99, 101, 103, 105, 107, 109, 111, 113, 115, 117, 119, 121, 123, 125, 127, 129, 131, 133, 135, 137, 139, 141, 143, 145, 147, 149, 151, 153, 155, 157, 159, 161, 163, 165, 167, 169, 171, 173, 175, 177, 179, 181, 183, 185, 187, 189, 191, 193, 195, 197, 199]\n"
          ]
        }
      ]
    },
    {
      "cell_type": "markdown",
      "source": [
        "## Arrancamos com Numpy"
      ],
      "metadata": {
        "id": "ctaWE2vq8Oza"
      }
    },
    {
      "cell_type": "code",
      "source": [
        "import numpy as np"
      ],
      "metadata": {
        "id": "FAuUHaDW8REK"
      },
      "execution_count": 46,
      "outputs": []
    },
    {
      "cell_type": "code",
      "source": [
        "lista_numpy = np.array(Lista_numerica)"
      ],
      "metadata": {
        "id": "wjYMdCaD8H4H"
      },
      "execution_count": 47,
      "outputs": []
    },
    {
      "cell_type": "code",
      "source": [
        "lista_numpy.dtype"
      ],
      "metadata": {
        "colab": {
          "base_uri": "https://localhost:8080/"
        },
        "id": "wrhcFPkw-W4K",
        "outputId": "97712206-4f77-42a9-9264-68cddb858c31"
      },
      "execution_count": 49,
      "outputs": [
        {
          "output_type": "execute_result",
          "data": {
            "text/plain": [
              "dtype('int64')"
            ]
          },
          "metadata": {},
          "execution_count": 49
        }
      ]
    },
    {
      "cell_type": "code",
      "source": [
        "matrix = lista_numpy.reshape(10,10)"
      ],
      "metadata": {
        "id": "aYq13cp09U7H"
      },
      "execution_count": 26,
      "outputs": []
    },
    {
      "cell_type": "code",
      "source": [
        "matrix"
      ],
      "metadata": {
        "colab": {
          "base_uri": "https://localhost:8080/"
        },
        "id": "u6ErDqDr_e45",
        "outputId": "327e3a81-f5e0-4e2b-9adb-5ab1916748cc"
      },
      "execution_count": 27,
      "outputs": [
        {
          "output_type": "execute_result",
          "data": {
            "text/plain": [
              "array([[  1,   3,   5,   7,   9,  11,  13,  15,  17,  19],\n",
              "       [ 21,  23,  25,  27,  29,  31,  33,  35,  37,  39],\n",
              "       [ 41,  43,  45,  47,  49,  51,  53,  55,  57,  59],\n",
              "       [ 61,  63,  65,  67,  69,  71,  73,  75,  77,  79],\n",
              "       [ 81,  83,  85,  87,  89,  91,  93,  95,  97,  99],\n",
              "       [101, 103, 105, 107, 109, 111, 113, 115, 117, 119],\n",
              "       [121, 123, 125, 127, 129, 131, 133, 135, 137, 139],\n",
              "       [141, 143, 145, 147, 149, 151, 153, 155, 157, 159],\n",
              "       [161, 163, 165, 167, 169, 171, 173, 175, 177, 179],\n",
              "       [181, 183, 185, 187, 189, 191, 193, 195, 197, 199]])"
            ]
          },
          "metadata": {},
          "execution_count": 27
        }
      ]
    },
    {
      "cell_type": "code",
      "source": [
        "matrix.diagonal()"
      ],
      "metadata": {
        "colab": {
          "base_uri": "https://localhost:8080/"
        },
        "id": "UP-ThxQZ-1yX",
        "outputId": "620d842e-90f6-48f0-f180-e0a560861987"
      },
      "execution_count": 28,
      "outputs": [
        {
          "output_type": "execute_result",
          "data": {
            "text/plain": [
              "array([  1,  23,  45,  67,  89, 111, 133, 155, 177, 199])"
            ]
          },
          "metadata": {},
          "execution_count": 28
        }
      ]
    },
    {
      "cell_type": "code",
      "source": [
        "matrix.transpose()"
      ],
      "metadata": {
        "colab": {
          "base_uri": "https://localhost:8080/"
        },
        "id": "Qw7BhODR_ivJ",
        "outputId": "135febdf-5289-45b1-9089-3d38d27198a7"
      },
      "execution_count": 30,
      "outputs": [
        {
          "output_type": "execute_result",
          "data": {
            "text/plain": [
              "array([[  1,  21,  41,  61,  81, 101, 121, 141, 161, 181],\n",
              "       [  3,  23,  43,  63,  83, 103, 123, 143, 163, 183],\n",
              "       [  5,  25,  45,  65,  85, 105, 125, 145, 165, 185],\n",
              "       [  7,  27,  47,  67,  87, 107, 127, 147, 167, 187],\n",
              "       [  9,  29,  49,  69,  89, 109, 129, 149, 169, 189],\n",
              "       [ 11,  31,  51,  71,  91, 111, 131, 151, 171, 191],\n",
              "       [ 13,  33,  53,  73,  93, 113, 133, 153, 173, 193],\n",
              "       [ 15,  35,  55,  75,  95, 115, 135, 155, 175, 195],\n",
              "       [ 17,  37,  57,  77,  97, 117, 137, 157, 177, 197],\n",
              "       [ 19,  39,  59,  79,  99, 119, 139, 159, 179, 199]])"
            ]
          },
          "metadata": {},
          "execution_count": 30
        }
      ]
    },
    {
      "cell_type": "code",
      "source": [
        "matrix_b = np.array([[1.,2.],[3.,4.]])\n",
        "matrix_b.dtype"
      ],
      "metadata": {
        "colab": {
          "base_uri": "https://localhost:8080/"
        },
        "id": "KW_cfHIfBBAL",
        "outputId": "5ca76d73-144d-43f1-badf-b360422f79a6"
      },
      "execution_count": 50,
      "outputs": [
        {
          "output_type": "execute_result",
          "data": {
            "text/plain": [
              "dtype('float64')"
            ]
          },
          "metadata": {},
          "execution_count": 50
        }
      ]
    },
    {
      "cell_type": "code",
      "source": [
        "matrix_b_inversa = np.linalg.inv(matrix_b)"
      ],
      "metadata": {
        "id": "EwHOrDfKA1eA"
      },
      "execution_count": 51,
      "outputs": []
    },
    {
      "cell_type": "code",
      "source": [
        "matrix_b @ matrix_b_inversa\n",
        "#@ multiplica matrices"
      ],
      "metadata": {
        "colab": {
          "base_uri": "https://localhost:8080/"
        },
        "id": "_3oOC5b6BW9j",
        "outputId": "4a5e5cc2-7e42-48a2-d4a5-b67b12a9f5c9"
      },
      "execution_count": 45,
      "outputs": [
        {
          "output_type": "execute_result",
          "data": {
            "text/plain": [
              "array([[1.0000000e+00, 0.0000000e+00],\n",
              "       [8.8817842e-16, 1.0000000e+00]])"
            ]
          },
          "metadata": {},
          "execution_count": 45
        }
      ]
    },
    {
      "cell_type": "code",
      "source": [
        "rad = np.linspace(0, 2*np.pi, 100)\n",
        "rad"
      ],
      "metadata": {
        "colab": {
          "base_uri": "https://localhost:8080/"
        },
        "id": "7cKD40nGBh7j",
        "outputId": "45354b10-dd40-45a6-da84-80edc36d0a6d"
      },
      "execution_count": 52,
      "outputs": [
        {
          "output_type": "execute_result",
          "data": {
            "text/plain": [
              "array([0.        , 0.06346652, 0.12693304, 0.19039955, 0.25386607,\n",
              "       0.31733259, 0.38079911, 0.44426563, 0.50773215, 0.57119866,\n",
              "       0.63466518, 0.6981317 , 0.76159822, 0.82506474, 0.88853126,\n",
              "       0.95199777, 1.01546429, 1.07893081, 1.14239733, 1.20586385,\n",
              "       1.26933037, 1.33279688, 1.3962634 , 1.45972992, 1.52319644,\n",
              "       1.58666296, 1.65012947, 1.71359599, 1.77706251, 1.84052903,\n",
              "       1.90399555, 1.96746207, 2.03092858, 2.0943951 , 2.15786162,\n",
              "       2.22132814, 2.28479466, 2.34826118, 2.41172769, 2.47519421,\n",
              "       2.53866073, 2.60212725, 2.66559377, 2.72906028, 2.7925268 ,\n",
              "       2.85599332, 2.91945984, 2.98292636, 3.04639288, 3.10985939,\n",
              "       3.17332591, 3.23679243, 3.30025895, 3.36372547, 3.42719199,\n",
              "       3.4906585 , 3.55412502, 3.61759154, 3.68105806, 3.74452458,\n",
              "       3.8079911 , 3.87145761, 3.93492413, 3.99839065, 4.06185717,\n",
              "       4.12532369, 4.1887902 , 4.25225672, 4.31572324, 4.37918976,\n",
              "       4.44265628, 4.5061228 , 4.56958931, 4.63305583, 4.69652235,\n",
              "       4.75998887, 4.82345539, 4.88692191, 4.95038842, 5.01385494,\n",
              "       5.07732146, 5.14078798, 5.2042545 , 5.26772102, 5.33118753,\n",
              "       5.39465405, 5.45812057, 5.52158709, 5.58505361, 5.64852012,\n",
              "       5.71198664, 5.77545316, 5.83891968, 5.9023862 , 5.96585272,\n",
              "       6.02931923, 6.09278575, 6.15625227, 6.21971879, 6.28318531])"
            ]
          },
          "metadata": {},
          "execution_count": 52
        }
      ]
    },
    {
      "cell_type": "code",
      "source": [
        "import matplotlib.pyplot as plt"
      ],
      "metadata": {
        "id": "8BwsDb_DEEFU"
      },
      "execution_count": 53,
      "outputs": []
    },
    {
      "cell_type": "code",
      "source": [
        "plt.plot(np.sin(rad) , np.cos(rad) )\n",
        "plt.show()"
      ],
      "metadata": {
        "colab": {
          "base_uri": "https://localhost:8080/",
          "height": 430
        },
        "id": "-Hdv6w8UEihX",
        "outputId": "ca343c03-60f8-4d67-acc5-28040b9db6d1"
      },
      "execution_count": 55,
      "outputs": [
        {
          "output_type": "display_data",
          "data": {
            "text/plain": [
              "<Figure size 640x480 with 1 Axes>"
            ],
            "image/png": "[encoded data removed]"
          },
          "metadata": {}
        }
      ]
    },
    {
      "cell_type": "code",
      "source": [
        "plt.plot(rad, np.sin(rad))\n",
        "plt.plot(rad, np.cos(rad))"
      ],
      "metadata": {
        "colab": {
          "base_uri": "https://localhost:8080/",
          "height": 447
        },
        "id": "vLcvZSYJFMWc",
        "outputId": "165fda3c-3f58-4790-ac9b-f86ddc69d34f"
      },
      "execution_count": 57,
      "outputs": [
        {
          "output_type": "execute_result",
          "data": {
            "text/plain": [
              "[<matplotlib.lines.Line2D at 0x7ce9f90b6550>]"
            ]
          },
          "metadata": {},
          "execution_count": 57
        },
        {
          "output_type": "display_data",
          "data": {
            "text/plain": [
              "<Figure size 640x480 with 1 Axes>"
            ],
            "image/png": "[encoded data removed]"
          },
          "metadata": {}
        }
      ]
    },
    {
      "cell_type": "markdown",
      "source": [
        "# Mi primera regresión"
      ],
      "metadata": {
        "id": "TjIpgmLuFqjM"
      }
    },
    {
      "cell_type": "code",
      "source": [
        "base = np.random.seed(45)"
      ],
      "metadata": {
        "id": "Bcl5t1JDFtDH"
      },
      "execution_count": 60,
      "outputs": []
    },
    {
      "cell_type": "code",
      "source": [
        "x = np.linspace(0,10,50)\n",
        "y = 2.5 * x + np.random.normal( size = x.size)"
      ],
      "metadata": {
        "id": "SrAgI46KFgck"
      },
      "execution_count": 65,
      "outputs": []
    },
    {
      "cell_type": "code",
      "source": [
        "A = np.vstack([x,np.ones(len(x))]).transpose()\n",
        "\n",
        "\n",
        "m,c = np.linalg.lstsq(A,y,rcond=None)[0]"
      ],
      "metadata": {
        "id": "LLOuQI9sGrrs"
      },
      "execution_count": 75,
      "outputs": []
    },
    {
      "cell_type": "code",
      "source": [
        "regression_lineal_pendiente = m*x + c"
      ],
      "metadata": {
        "id": "dYfPDutpIlnO"
      },
      "execution_count": 76,
      "outputs": []
    },
    {
      "cell_type": "code",
      "source": [
        "plt.plot(x,regression_lineal_pendiente, 'r', label = 'Linea de Regresion Lineal')\n",
        "plt.scatter(x,y, label = 'Datos Tirados')"
      ],
      "metadata": {
        "colab": {
          "base_uri": "https://localhost:8080/",
          "height": 447
        },
        "id": "tKZBILlZG0g9",
        "outputId": "f2e357a6-9121-4371-8920-b230f49593c9"
      },
      "execution_count": 78,
      "outputs": [
        {
          "output_type": "execute_result",
          "data": {
            "text/plain": [
              "<matplotlib.collections.PathCollection at 0x7ce9f7fefcd0>"
            ]
          },
          "metadata": {},
          "execution_count": 78
        },
        {
          "output_type": "display_data",
          "data": {
            "text/plain": [
              "<Figure size 640x480 with 1 Axes>"
            ],
            "image/png": "[encoded data removed]"
          },
          "metadata": {}
        }
      ]
    },
    {
      "cell_type": "markdown",
      "source": [
        "# Trabajar con Pandas"
      ],
      "metadata": {
        "id": "0jITlCz-OTDf"
      }
    },
    {
      "cell_type": "code",
      "source": [
        "url_path = 'https://raw.githubusercontent.com/JJTorresDS/stocks-ds-edu/main/stocks.csv'"
      ],
      "metadata": {
        "id": "VxSLCXfpPUXd"
      },
      "execution_count": 81,
      "outputs": []
    },
    {
      "cell_type": "code",
      "source": [
        "import pandas as pd"
      ],
      "metadata": {
        "id": "yk_ZDG-AOWMv"
      },
      "execution_count": 79,
      "outputs": []
    },
    {
      "cell_type": "code",
      "source": [
        "orders = pd.read_csv(url_path)"
      ],
      "metadata": {
        "id": "FaSspNqRHZZd"
      },
      "execution_count": 83,
      "outputs": []
    },
    {
      "cell_type": "code",
      "source": [
        "orders.info()"
      ],
      "metadata": {
        "colab": {
          "base_uri": "https://localhost:8080/"
        },
        "id": "ijLhA6aPRSKZ",
        "outputId": "5c2bc1ab-c47b-4c85-b7e6-97fe03183710"
      },
      "execution_count": 84,
      "outputs": [
        {
          "output_type": "stream",
          "name": "stdout",
          "text": [
            "<class 'pandas.core.frame.DataFrame'>\n",
            "RangeIndex: 71 entries, 0 to 70\n",
            "Data columns (total 15 columns):\n",
            " #   Column          Non-Null Count  Dtype  \n",
            "---  ------          --------------  -----  \n",
            " 0   formatted_date  71 non-null     object \n",
            " 1   MCD             71 non-null     float64\n",
            " 2   SBUX            71 non-null     float64\n",
            " 3   GOOG            71 non-null     float64\n",
            " 4   AMZN            71 non-null     float64\n",
            " 5   MSFT            71 non-null     float64\n",
            " 6   JPM             71 non-null     float64\n",
            " 7   BAC             71 non-null     float64\n",
            " 8   C               71 non-null     float64\n",
            " 9   MAR             71 non-null     float64\n",
            " 10  HLT             71 non-null     float64\n",
            " 11  RCL             71 non-null     float64\n",
            " 12  V               71 non-null     float64\n",
            " 13  MA              71 non-null     float64\n",
            " 14  PYPL            71 non-null     float64\n",
            "dtypes: float64(14), object(1)\n",
            "memory usage: 8.4+ KB\n"
          ]
        }
      ]
    },
    {
      "cell_type": "code",
      "source": [
        "url_stocks = 'https://raw.githubusercontent.com/JJTorresDS/stocks-ds-edu/main/stocks.csv'"
      ],
      "metadata": {
        "id": "ZLsYVCT4RfT4"
      },
      "execution_count": 102,
      "outputs": []
    },
    {
      "cell_type": "code",
      "source": [
        "stocks = pd.read_csv(url_stocks)\n",
        "stocks.head()"
      ],
      "metadata": {
        "colab": {
          "base_uri": "https://localhost:8080/",
          "height": 226
        },
        "id": "BYY4A4y0R6LI",
        "outputId": "e1adf540-ba70-4ecd-87c8-b0f27bba76bb"
      },
      "execution_count": 103,
      "outputs": [
        {
          "output_type": "execute_result",
          "data": {
            "text/plain": [
              "  formatted_date         MCD       SBUX        GOOG        AMZN       MSFT  \\\n",
              "0     2016-01-01  106.332146  54.353962  742.950012  587.000000  49.853489   \n",
              "1     2016-02-01  100.671043  52.064243  697.770020  552.520020  46.043667   \n",
              "2     2016-03-01  108.782211  53.571442  744.950012  593.640015  50.339031   \n",
              "3     2016-04-01  109.483307  50.457645  693.010010  659.590027  45.453705   \n",
              "4     2016-05-01  105.648926  49.255203  735.719971  722.789978  48.306515   \n",
              "\n",
              "         JPM        BAC          C        MAR        HLT        RCL  \\\n",
              "0  50.424938  12.573010  36.897804  57.754189  35.192841  74.235298   \n",
              "1  48.033066  11.132540  33.707108  64.228912  41.061607  67.360649   \n",
              "2  50.524323  12.021718  36.223217  67.336624  44.499886  74.790009   \n",
              "3  53.919910  12.995729  40.153545  66.305466  43.716049  70.465584   \n",
              "4  56.098225  13.201019  40.447887  62.474155  41.198154  70.456474   \n",
              "\n",
              "           V         MA       PYPL  \n",
              "0  71.574371  85.822624  36.139999  \n",
              "1  69.556580  83.956566  38.139999  \n",
              "2  73.631477  91.278160  38.599998  \n",
              "3  74.363144  93.683258  39.180000  \n",
              "4  75.999847  92.817329  37.790001  "
            ],
            "text/html": [
              "\n",
              "  <div id=\"df-a3bc9f79-5b0f-4a96-9935-2f4fd1a66321\" class=\"colab-df-container\">\n",
              "    <div>\n",
              "<style scoped>\n",
              "    .dataframe tbody tr th:only-of-type {\n",
              "        vertical-align: middle;\n",
              "    }\n",
              "\n",
              "    .dataframe tbody tr th {\n",
              "        vertical-align: top;\n",
              "    }\n",
              "\n",
              "    .dataframe thead th {\n",
              "        text-align: right;\n",
              "    }\n",
              "</style>\n",
              "<table border=\"1\" class=\"dataframe\">\n",
              "  <thead>\n",
              "    <tr style=\"text-align: right;\">\n",
              "      <th></th>\n",
              "      <th>formatted_date</th>\n",
              "      <th>MCD</th>\n",
              "      <th>SBUX</th>\n",
              "      <th>GOOG</th>\n",
              "      <th>AMZN</th>\n",
              "      <th>MSFT</th>\n",
              "      <th>JPM</th>\n",
              "      <th>BAC</th>\n",
              "      <th>C</th>\n",
              "      <th>MAR</th>\n",
              "      <th>HLT</th>\n",
              "      <th>RCL</th>\n",
              "      <th>V</th>\n",
              "      <th>MA</th>\n",
              "      <th>PYPL</th>\n",
              "    </tr>\n",
              "  </thead>\n",
              "  <tbody>\n",
              "    <tr>\n",
              "      <th>0</th>\n",
              "      <td>2016-01-01</td>\n",
              "      <td>106.332146</td>\n",
              "      <td>54.353962</td>\n",
              "      <td>742.950012</td>\n",
              "      <td>587.000000</td>\n",
              "      <td>49.853489</td>\n",
              "      <td>50.424938</td>\n",
              "      <td>12.573010</td>\n",
              "      <td>36.897804</td>\n",
              "      <td>57.754189</td>\n",
              "      <td>35.192841</td>\n",
              "      <td>74.235298</td>\n",
              "      <td>71.574371</td>\n",
              "      <td>85.822624</td>\n",
              "      <td>36.139999</td>\n",
              "    </tr>\n",
              "    <tr>\n",
              "      <th>1</th>\n",
              "      <td>2016-02-01</td>\n",
              "      <td>100.671043</td>\n",
              "      <td>52.064243</td>\n",
              "      <td>697.770020</td>\n",
              "      <td>552.520020</td>\n",
              "      <td>46.043667</td>\n",
              "      <td>48.033066</td>\n",
              "      <td>11.132540</td>\n",
              "      <td>33.707108</td>\n",
              "      <td>64.228912</td>\n",
              "      <td>41.061607</td>\n",
              "      <td>67.360649</td>\n",
              "      <td>69.556580</td>\n",
              "      <td>83.956566</td>\n",
              "      <td>38.139999</td>\n",
              "    </tr>\n",
              "    <tr>\n",
              "      <th>2</th>\n",
              "      <td>2016-03-01</td>\n",
              "      <td>108.782211</td>\n",
              "      <td>53.571442</td>\n",
              "      <td>744.950012</td>\n",
              "      <td>593.640015</td>\n",
              "      <td>50.339031</td>\n",
              "      <td>50.524323</td>\n",
              "      <td>12.021718</td>\n",
              "      <td>36.223217</td>\n",
              "      <td>67.336624</td>\n",
              "      <td>44.499886</td>\n",
              "      <td>74.790009</td>\n",
              "      <td>73.631477</td>\n",
              "      <td>91.278160</td>\n",
              "      <td>38.599998</td>\n",
              "    </tr>\n",
              "    <tr>\n",
              "      <th>3</th>\n",
              "      <td>2016-04-01</td>\n",
              "      <td>109.483307</td>\n",
              "      <td>50.457645</td>\n",
              "      <td>693.010010</td>\n",
              "      <td>659.590027</td>\n",
              "      <td>45.453705</td>\n",
              "      <td>53.919910</td>\n",
              "      <td>12.995729</td>\n",
              "      <td>40.153545</td>\n",
              "      <td>66.305466</td>\n",
              "      <td>43.716049</td>\n",
              "      <td>70.465584</td>\n",
              "      <td>74.363144</td>\n",
              "      <td>93.683258</td>\n",
              "      <td>39.180000</td>\n",
              "    </tr>\n",
              "    <tr>\n",
              "      <th>4</th>\n",
              "      <td>2016-05-01</td>\n",
              "      <td>105.648926</td>\n",
              "      <td>49.255203</td>\n",
              "      <td>735.719971</td>\n",
              "      <td>722.789978</td>\n",
              "      <td>48.306515</td>\n",
              "      <td>56.098225</td>\n",
              "      <td>13.201019</td>\n",
              "      <td>40.447887</td>\n",
              "      <td>62.474155</td>\n",
              "      <td>41.198154</td>\n",
              "      <td>70.456474</td>\n",
              "      <td>75.999847</td>\n",
              "      <td>92.817329</td>\n",
              "      <td>37.790001</td>\n",
              "    </tr>\n",
              "  </tbody>\n",
              "</table>\n",
              "</div>\n",
              "    <div class=\"colab-df-buttons\">\n",
              "\n",
              "  <div class=\"colab-df-container\">\n",
              "    <button class=\"colab-df-convert\" onclick=\"convertToInteractive('df-a3bc9f79-5b0f-4a96-9935-2f4fd1a66321')\"\n",
              "            title=\"Convert this dataframe to an interactive table.\"\n",
              "            style=\"display:none;\">\n",
              "\n",
              "  <svg xmlns=\"http://www.w3.org/2000/svg\" height=\"24px\" viewBox=\"0 -960 960 960\">\n",
              "    <path d=\"M120-120v-720h720v720H120Zm60-500h600v-160H180v160Zm220 220h160v-160H400v160Zm0 220h160v-160H400v160ZM180-400h160v-160H180v160Zm440 0h160v-160H620v160ZM180-180h160v-160H180v160Zm440 0h160v-160H620v160Z\"/>\n",
              "  </svg>\n",
              "    </button>\n",
              "\n",
              "  <style>\n",
              "    .colab-df-container {\n",
              "      display:flex;\n",
              "      gap: 12px;\n",
              "    }\n",
              "\n",
              "    .colab-df-convert {\n",
              "      background-color: #E8F0FE;\n",
              "      border: none;\n",
              "      border-radius: 50%;\n",
              "      cursor: pointer;\n",
              "      display: none;\n",
              "      fill: #1967D2;\n",
              "      height: 32px;\n",
              "      padding: 0 0 0 0;\n",
              "      width: 32px;\n",
              "    }\n",
              "\n",
              "    .colab-df-convert:hover {\n",
              "      background-color: #E2EBFA;\n",
              "      box-shadow: 0px 1px 2px rgba(60, 64, 67, 0.3), 0px 1px 3px 1px rgba(60, 64, 67, 0.15);\n",
              "      fill: #174EA6;\n",
              "    }\n",
              "\n",
              "    .colab-df-buttons div {\n",
              "      margin-bottom: 4px;\n",
              "    }\n",
              "\n",
              "    [theme=dark] .colab-df-convert {\n",
              "      background-color: #3B4455;\n",
              "      fill: #D2E3FC;\n",
              "    }\n",
              "\n",
              "    [theme=dark] .colab-df-convert:hover {\n",
              "      background-color: #434B5C;\n",
              "      box-shadow: 0px 1px 3px 1px rgba(0, 0, 0, 0.15);\n",
              "      filter: drop-shadow(0px 1px 2px rgba(0, 0, 0, 0.3));\n",
              "      fill: #FFFFFF;\n",
              "    }\n",
              "  </style>\n",
              "\n",
              "    <script>\n",
              "      const buttonEl =\n",
              "        document.querySelector('#df-a3bc9f79-5b0f-4a96-9935-2f4fd1a66321 button.colab-df-convert');\n",
              "      buttonEl.style.display =\n",
              "        google.colab.kernel.accessAllowed ? 'block' : 'none';\n",
              "\n",
              "      async function convertToInteractive(key) {\n",
              "        const element = document.querySelector('#df-a3bc9f79-5b0f-4a96-9935-2f4fd1a66321');\n",
              "        const dataTable =\n",
              "          await google.colab.kernel.invokeFunction('convertToInteractive',\n",
              "                                                    [key], {});\n",
              "        if (!dataTable) return;\n",
              "\n",
              "        const docLinkHtml = 'Like what you see? Visit the ' +\n",
              "          '<a target=\"_blank\" href=https://colab.research.google.com/notebooks/data_table.ipynb>data table notebook</a>'\n",
              "          + ' to learn more about interactive tables.';\n",
              "        element.innerHTML = '';\n",
              "        dataTable['output_type'] = 'display_data';\n",
              "        await google.colab.output.renderOutput(dataTable, element);\n",
              "        const docLink = document.createElement('div');\n",
              "        docLink.innerHTML = docLinkHtml;\n",
              "        element.appendChild(docLink);\n",
              "      }\n",
              "    </script>\n",
              "  </div>\n",
              "\n",
              "\n",
              "    <div id=\"df-25034fe9-b306-4f20-87db-00194cf066f6\">\n",
              "      <button class=\"colab-df-quickchart\" onclick=\"quickchart('df-25034fe9-b306-4f20-87db-00194cf066f6')\"\n",
              "                title=\"Suggest charts\"\n",
              "                style=\"display:none;\">\n",
              "\n",
              "<svg xmlns=\"http://www.w3.org/2000/svg\" height=\"24px\"viewBox=\"0 0 24 24\"\n",
              "     width=\"24px\">\n",
              "    <g>\n",
              "        <path d=\"M19 3H5c-1.1 0-2 .9-2 2v14c0 1.1.9 2 2 2h14c1.1 0 2-.9 2-2V5c0-1.1-.9-2-2-2zM9 17H7v-7h2v7zm4 0h-2V7h2v10zm4 0h-2v-4h2v4z\"/>\n",
              "    </g>\n",
              "</svg>\n",
              "      </button>\n",
              "\n",
              "<style>\n",
              "  .colab-df-quickchart {\n",
              "      --bg-color: #E8F0FE;\n",
              "      --fill-color: #1967D2;\n",
              "      --hover-bg-color: #E2EBFA;\n",
              "      --hover-fill-color: #174EA6;\n",
              "      --disabled-fill-color: #AAA;\n",
              "      --disabled-bg-color: #DDD;\n",
              "  }\n",
              "\n",
              "  [theme=dark] .colab-df-quickchart {\n",
              "      --bg-color: #3B4455;\n",
              "      --fill-color: #D2E3FC;\n",
              "      --hover-bg-color: #434B5C;\n",
              "      --hover-fill-color: #FFFFFF;\n",
              "      --disabled-bg-color: #3B4455;\n",
              "      --disabled-fill-color: #666;\n",
              "  }\n",
              "\n",
              "  .colab-df-quickchart {\n",
              "    background-color: var(--bg-color);\n",
              "    border: none;\n",
              "    border-radius: 50%;\n",
              "    cursor: pointer;\n",
              "    display: none;\n",
              "    fill: var(--fill-color);\n",
              "    height: 32px;\n",
              "    padding: 0;\n",
              "    width: 32px;\n",
              "  }\n",
              "\n",
              "  .colab-df-quickchart:hover {\n",
              "    background-color: var(--hover-bg-color);\n",
              "    box-shadow: 0 1px 2px rgba(60, 64, 67, 0.3), 0 1px 3px 1px rgba(60, 64, 67, 0.15);\n",
              "    fill: var(--button-hover-fill-color);\n",
              "  }\n",
              "\n",
              "  .colab-df-quickchart-complete:disabled,\n",
              "  .colab-df-quickchart-complete:disabled:hover {\n",
              "    background-color: var(--disabled-bg-color);\n",
              "    fill: var(--disabled-fill-color);\n",
              "    box-shadow: none;\n",
              "  }\n",
              "\n",
              "  .colab-df-spinner {\n",
              "    border: 2px solid var(--fill-color);\n",
              "    border-color: transparent;\n",
              "    border-bottom-color: var(--fill-color);\n",
              "    animation:\n",
              "      spin 1s steps(1) infinite;\n",
              "  }\n",
              "\n",
              "  @keyframes spin {\n",
              "    0% {\n",
              "      border-color: transparent;\n",
              "      border-bottom-color: var(--fill-color);\n",
              "      border-left-color: var(--fill-color);\n",
              "    }\n",
              "    20% {\n",
              "      border-color: transparent;\n",
              "      border-left-color: var(--fill-color);\n",
              "      border-top-color: var(--fill-color);\n",
              "    }\n",
              "    30% {\n",
              "      border-color: transparent;\n",
              "      border-left-color: var(--fill-color);\n",
              "      border-top-color: var(--fill-color);\n",
              "      border-right-color: var(--fill-color);\n",
              "    }\n",
              "    40% {\n",
              "      border-color: transparent;\n",
              "      border-right-color: var(--fill-color);\n",
              "      border-top-color: var(--fill-color);\n",
              "    }\n",
              "    60% {\n",
              "      border-color: transparent;\n",
              "      border-right-color: var(--fill-color);\n",
              "    }\n",
              "    80% {\n",
              "      border-color: transparent;\n",
              "      border-right-color: var(--fill-color);\n",
              "      border-bottom-color: var(--fill-color);\n",
              "    }\n",
              "    90% {\n",
              "      border-color: transparent;\n",
              "      border-bottom-color: var(--fill-color);\n",
              "    }\n",
              "  }\n",
              "</style>\n",
              "\n",
              "      <script>\n",
              "        async function quickchart(key) {\n",
              "          const quickchartButtonEl =\n",
              "            document.querySelector('#' + key + ' button');\n",
              "          quickchartButtonEl.disabled = true;  // To prevent multiple clicks.\n",
              "          quickchartButtonEl.classList.add('colab-df-spinner');\n",
              "          try {\n",
              "            const charts = await google.colab.kernel.invokeFunction(\n",
              "                'suggestCharts', [key], {});\n",
              "          } catch (error) {\n",
              "            console.error('Error during call to suggestCharts:', error);\n",
              "          }\n",
              "          quickchartButtonEl.classList.remove('colab-df-spinner');\n",
              "          quickchartButtonEl.classList.add('colab-df-quickchart-complete');\n",
              "        }\n",
              "        (() => {\n",
              "          let quickchartButtonEl =\n",
              "            document.querySelector('#df-25034fe9-b306-4f20-87db-00194cf066f6 button');\n",
              "          quickchartButtonEl.style.display =\n",
              "            google.colab.kernel.accessAllowed ? 'block' : 'none';\n",
              "        })();\n",
              "      </script>\n",
              "    </div>\n",
              "\n",
              "    </div>\n",
              "  </div>\n"
            ],
            "application/vnd.google.colaboratory.intrinsic+json": {
              "type": "dataframe",
              "variable_name": "stocks",
              "summary": "{\n  \"name\": \"stocks\",\n  \"rows\": 71,\n  \"fields\": [\n    {\n      \"column\": \"formatted_date\",\n      \"properties\": {\n        \"dtype\": \"object\",\n        \"num_unique_values\": 71,\n        \"samples\": [\n          \"2017-11-01\",\n          \"2016-01-01\",\n          \"2020-02-01\"\n        ],\n        \"semantic_type\": \"\",\n        \"description\": \"\"\n      }\n    },\n    {\n      \"column\": \"MCD\",\n      \"properties\": {\n        \"dtype\": \"number\",\n        \"std\": 42.87605387768779,\n        \"min\": 98.9138412475586,\n        \"max\": 244.1961975097656,\n        \"num_unique_values\": 71,\n        \"samples\": [\n          155.28128051757812,\n          106.33214569091795,\n          185.2031707763672\n        ],\n        \"semantic_type\": \"\",\n        \"description\": \"\"\n      }\n    },\n    {\n      \"column\": \"SBUX\",\n      \"properties\": {\n        \"dtype\": \"number\",\n        \"std\": 22.053341500098696,\n        \"min\": 45.65204620361328,\n        \"max\": 120.44119262695312,\n        \"num_unique_values\": 71,\n        \"samples\": [\n          53.18201446533203,\n          54.35396194458008,\n          75.59546661376953\n        ],\n        \"semantic_type\": \"\",\n        \"description\": \"\"\n      }\n    },\n    {\n      \"column\": \"GOOG\",\n      \"properties\": {\n        \"dtype\": \"number\",\n        \"std\": 583.4365503451131,\n        \"min\": 692.0999755859375,\n        \"max\": 2965.409912109375,\n        \"num_unique_values\": 71,\n        \"samples\": [\n          1021.4099731445312,\n          742.9500122070312,\n          1339.3299560546875\n        ],\n        \"semantic_type\": \"\",\n        \"description\": \"\"\n      }\n    },\n    {\n      \"column\": \"AMZN\",\n      \"properties\": {\n        \"dtype\": \"number\",\n        \"std\": 944.397336607951,\n        \"min\": 552.52001953125,\n        \"max\": 3507.070068359375,\n        \"num_unique_values\": 71,\n        \"samples\": [\n          1176.75,\n          587.0,\n          1883.75\n        ],\n        \"semantic_type\": \"\",\n        \"description\": \"\"\n      }\n    },\n    {\n      \"column\": \"MSFT\",\n      \"properties\": {\n        \"dtype\": \"number\",\n        \"std\": 77.76576844521375,\n        \"min\": 45.453704833984375,\n        \"max\": 331.014404296875,\n        \"num_unique_values\": 71,\n        \"samples\": [\n          79.60704803466797,\n          49.85348892211914,\n          158.97911071777344\n        ],\n        \"semantic_type\": \"\",\n        \"description\": \"\"\n      }\n    },\n    {\n      \"column\": \"JPM\",\n      \"properties\": {\n        \"dtype\": \"number\",\n        \"std\": 30.23569525028122,\n        \"min\": 48.03306579589844,\n        \"max\": 168.8723907470703,\n        \"num_unique_values\": 71,\n        \"samples\": [\n          93.2709732055664,\n          50.4249382019043,\n          109.99821472167967\n        ],\n        \"semantic_type\": \"\",\n        \"description\": \"\"\n      }\n    },\n    {\n      \"column\": \"BAC\",\n      \"properties\": {\n        \"dtype\": \"number\",\n        \"std\": 8.08916750913528,\n        \"min\": 11.132539749145508,\n        \"max\": 47.55112838745117,\n        \"num_unique_values\": 71,\n        \"samples\": [\n          25.73257827758789,\n          12.573010444641112,\n          27.231388092041016\n        ],\n        \"semantic_type\": \"\",\n        \"description\": \"\"\n      }\n    },\n    {\n      \"column\": \"C\",\n      \"properties\": {\n        \"dtype\": \"number\",\n        \"std\": 10.997466136744357,\n        \"min\": 33.70710754394531,\n        \"max\": 77.56448364257812,\n        \"num_unique_values\": 71,\n        \"samples\": [\n          66.70340728759766,\n          36.89780426025391,\n          59.58349990844727\n        ],\n        \"semantic_type\": \"\",\n        \"description\": \"\"\n      }\n    },\n    {\n      \"column\": \"MAR\",\n      \"properties\": {\n        \"dtype\": \"number\",\n        \"std\": 28.17018145258525,\n        \"min\": 57.754188537597656,\n        \"max\": 160.02000427246094,\n        \"num_unique_values\": 71,\n        \"samples\": [\n          122.88818359375,\n          57.754188537597656,\n          123.5047836303711\n        ],\n        \"semantic_type\": \"\",\n        \"description\": \"\"\n      }\n    },\n    {\n      \"column\": \"HLT\",\n      \"properties\": {\n        \"dtype\": \"number\",\n        \"std\": 26.520323630173127,\n        \"min\": 35.192840576171875,\n        \"max\": 143.9499969482422,\n        \"num_unique_values\": 71,\n        \"samples\": [\n          76.19341278076172,\n          35.192840576171875,\n          97.0510711669922\n        ],\n        \"semantic_type\": \"\",\n        \"description\": \"\"\n      }\n    },\n    {\n      \"column\": \"RCL\",\n      \"properties\": {\n        \"dtype\": \"number\",\n        \"std\": 22.909133430646904,\n        \"min\": 31.85381126403809,\n        \"max\": 131.3896026611328,\n        \"num_unique_values\": 70,\n        \"samples\": [\n          116.42937469482422,\n          74.23529815673828,\n          79.61968231201172\n        ],\n        \"semantic_type\": \"\",\n        \"description\": \"\"\n      }\n    },\n    {\n      \"column\": \"V\",\n      \"properties\": {\n        \"dtype\": \"number\",\n        \"std\": 52.414161839201256,\n        \"min\": 69.55657958984375,\n        \"max\": 245.62217712402344,\n        \"num_unique_values\": 71,\n        \"samples\": [\n          109.5832977294922,\n          71.57437133789062,\n          179.54515075683594\n        ],\n        \"semantic_type\": \"\",\n        \"description\": \"\"\n      }\n    },\n    {\n      \"column\": \"MA\",\n      \"properties\": {\n        \"dtype\": \"number\",\n        \"std\": 95.46965898162611,\n        \"min\": 83.9565658569336,\n        \"max\": 384.9994201660156,\n        \"num_unique_values\": 71,\n        \"samples\": [\n          147.30908203125,\n          85.82262420654297,\n          287.6676330566406\n        ],\n        \"semantic_type\": \"\",\n        \"description\": \"\"\n      }\n    },\n    {\n      \"column\": \"PYPL\",\n      \"properties\": {\n        \"dtype\": \"number\",\n        \"std\": 75.91408724106374,\n        \"min\": 36.13999938964844,\n        \"max\": 291.4800109863281,\n        \"num_unique_values\": 71,\n        \"samples\": [\n          75.7300033569336,\n          36.13999938964844,\n          107.98999786376952\n        ],\n        \"semantic_type\": \"\",\n        \"description\": \"\"\n      }\n    }\n  ]\n}"
            }
          },
          "metadata": {},
          "execution_count": 103
        }
      ]
    },
    {
      "cell_type": "code",
      "source": [
        "stocks.columns"
      ],
      "metadata": {
        "colab": {
          "base_uri": "https://localhost:8080/"
        },
        "id": "tjtWbkJ3R6I4",
        "outputId": "65997479-6d03-4679-cb95-82ec9fa26868"
      },
      "execution_count": 104,
      "outputs": [
        {
          "output_type": "execute_result",
          "data": {
            "text/plain": [
              "Index(['formatted_date', 'MCD', 'SBUX', 'GOOG', 'AMZN', 'MSFT', 'JPM', 'BAC',\n",
              "       'C', 'MAR', 'HLT', 'RCL', 'V', 'MA', 'PYPL'],\n",
              "      dtype='object')"
            ]
          },
          "metadata": {},
          "execution_count": 104
        }
      ]
    },
    {
      "cell_type": "code",
      "source": [
        "name_map = {\n",
        "    'MCD': 'McDonalds Corporation',\n",
        "    'SBUX': 'Starbucks Corporation',\n",
        "    'GOOG': 'Alphabet Inc. (Google)',\n",
        "    'AMZN': 'Amazon.com, Inc.',\n",
        "    'MSFT': 'Microsoft Corporation',\n",
        "    'JPM': 'JPMorgan Chase & Co.',\n",
        "    'BAC': 'Bank of America Corporation',\n",
        "    'C': 'Citigroup Inc.',\n",
        "    'MAR': 'Marriott International, Inc.',\n",
        "    'HLT': 'Hilton Worldwide Holdings Inc.',\n",
        "    'RCL': 'Royal Caribbean Cruises Ltd.',\n",
        "    'V': 'Visa Inc.',\n",
        "    'MA': 'Mastercard Incorporated',\n",
        "    'PYPL': 'PayPal Holdings, Inc.'\n",
        "}"
      ],
      "metadata": {
        "id": "OdPtfZaQSiFA"
      },
      "execution_count": 105,
      "outputs": []
    },
    {
      "cell_type": "code",
      "source": [
        "stocks.rename(columns=name_map, inplace=True)"
      ],
      "metadata": {
        "id": "SetSB8xJSnKA"
      },
      "execution_count": 106,
      "outputs": []
    },
    {
      "cell_type": "code",
      "source": [
        "stocks"
      ],
      "metadata": {
        "colab": {
          "base_uri": "https://localhost:8080/",
          "height": 496
        },
        "id": "2UgDnjigWuQq",
        "outputId": "9b14932d-4784-4d2a-f57e-5556db277b00"
      },
      "execution_count": 107,
      "outputs": [
        {
          "output_type": "execute_result",
          "data": {
            "text/plain": [
              "   formatted_date  McDonalds Corporation  Starbucks Corporation  \\\n",
              "0      2016-01-01             106.332146              54.353962   \n",
              "1      2016-02-01             100.671043              52.064243   \n",
              "2      2016-03-01             108.782211              53.571442   \n",
              "3      2016-04-01             109.483307              50.457645   \n",
              "4      2016-05-01             105.648926              49.255203   \n",
              "..            ...                    ...                    ...   \n",
              "66     2021-07-01             240.055786             120.441193   \n",
              "67     2021-08-01             234.863205             116.533272   \n",
              "68     2021-09-01             239.780670             109.836403   \n",
              "69     2021-10-01             244.196198             105.614609   \n",
              "70     2021-11-01             243.251434             109.169281   \n",
              "\n",
              "    Alphabet Inc. (Google)  Amazon.com, Inc.  Microsoft Corporation  \\\n",
              "0               742.950012        587.000000              49.853489   \n",
              "1               697.770020        552.520020              46.043667   \n",
              "2               744.950012        593.640015              50.339031   \n",
              "3               693.010010        659.590027              45.453705   \n",
              "4               735.719971        722.789978              48.306515   \n",
              "..                     ...               ...                    ...   \n",
              "66             2704.419922       3327.590088             283.846313   \n",
              "67             2909.239990       3470.790039             300.752960   \n",
              "68             2665.310059       3285.040039             281.405182   \n",
              "69             2965.409912       3372.429932             331.014404   \n",
              "70             2849.040039       3507.070068             329.986298   \n",
              "\n",
              "    JPMorgan Chase & Co.  Bank of America Corporation  Citigroup Inc.  \\\n",
              "0              50.424938                    12.573010       36.897804   \n",
              "1              48.033066                    11.132540       33.707108   \n",
              "2              50.524323                    12.021718       36.223217   \n",
              "3              53.919910                    12.995729       40.153545   \n",
              "4              56.098225                    13.201019       40.447887   \n",
              "..                   ...                          ...             ...   \n",
              "66            150.006454                    37.981613       66.635887   \n",
              "67            158.991928                    41.338173       71.392593   \n",
              "68            162.709534                    42.031269       69.675041   \n",
              "69            168.872391                    47.551128       68.662384   \n",
              "70            158.830002                    44.256985       63.700001   \n",
              "\n",
              "    Marriott International, Inc.  Hilton Worldwide Holdings Inc.  \\\n",
              "0                      57.754189                       35.192841   \n",
              "1                      64.228912                       41.061607   \n",
              "2                      67.336624                       44.499886   \n",
              "3                      66.305466                       43.716049   \n",
              "4                      62.474155                       41.198154   \n",
              "..                           ...                             ...   \n",
              "66                    145.979996                      131.449997   \n",
              "67                    135.139999                      124.860001   \n",
              "68                    148.089996                      132.110001   \n",
              "69                    160.020004                      143.949997   \n",
              "70                    147.559998                      135.070007   \n",
              "\n",
              "    Royal Caribbean Cruises Ltd.   Visa Inc.  Mastercard Incorporated  \\\n",
              "0                      74.235298   71.574371                85.822624   \n",
              "1                      67.360649   69.556580                83.956566   \n",
              "2                      74.790009   73.631477                91.278160   \n",
              "3                      70.465584   74.363144                93.683258   \n",
              "4                      70.456474   75.999847                92.817329   \n",
              "..                           ...         ...                      ...   \n",
              "66                     76.870003  245.622177               384.999420   \n",
              "67                     82.730003  228.386063               345.793121   \n",
              "68                     88.949997  222.358551               347.241272   \n",
              "69                     84.430000  211.397858               335.096588   \n",
              "70                     69.820000  193.429489               314.920013   \n",
              "\n",
              "    PayPal Holdings, Inc.  \n",
              "0               36.139999  \n",
              "1               38.139999  \n",
              "2               38.599998  \n",
              "3               39.180000  \n",
              "4               37.790001  \n",
              "..                    ...  \n",
              "66             275.529999  \n",
              "67             288.660004  \n",
              "68             260.209991  \n",
              "69             232.589996  \n",
              "70             184.889999  \n",
              "\n",
              "[71 rows x 15 columns]"
            ],
            "text/html": [
              "\n",
              "  <div id=\"df-d17c373b-9405-4c14-9e9a-f2bcb0d3008d\" class=\"colab-df-container\">\n",
              "    <div>\n",
              "<style scoped>\n",
              "    .dataframe tbody tr th:only-of-type {\n",
              "        vertical-align: middle;\n",
              "    }\n",
              "\n",
              "    .dataframe tbody tr th {\n",
              "        vertical-align: top;\n",
              "    }\n",
              "\n",
              "    .dataframe thead th {\n",
              "        text-align: right;\n",
              "    }\n",
              "</style>\n",
              "<table border=\"1\" class=\"dataframe\">\n",
              "  <thead>\n",
              "    <tr style=\"text-align: right;\">\n",
              "      <th></th>\n",
              "      <th>formatted_date</th>\n",
              "      <th>McDonalds Corporation</th>\n",
              "      <th>Starbucks Corporation</th>\n",
              "      <th>Alphabet Inc. (Google)</th>\n",
              "      <th>Amazon.com, Inc.</th>\n",
              "      <th>Microsoft Corporation</th>\n",
              "      <th>JPMorgan Chase &amp; Co.</th>\n",
              "      <th>Bank of America Corporation</th>\n",
              "      <th>Citigroup Inc.</th>\n",
              "      <th>Marriott International, Inc.</th>\n",
              "      <th>Hilton Worldwide Holdings Inc.</th>\n",
              "      <th>Royal Caribbean Cruises Ltd.</th>\n",
              "      <th>Visa Inc.</th>\n",
              "      <th>Mastercard Incorporated</th>\n",
              "      <th>PayPal Holdings, Inc.</th>\n",
              "    </tr>\n",
              "  </thead>\n",
              "  <tbody>\n",
              "    <tr>\n",
              "      <th>0</th>\n",
              "      <td>2016-01-01</td>\n",
              "      <td>106.332146</td>\n",
              "      <td>54.353962</td>\n",
              "      <td>742.950012</td>\n",
              "      <td>587.000000</td>\n",
              "      <td>49.853489</td>\n",
              "      <td>50.424938</td>\n",
              "      <td>12.573010</td>\n",
              "      <td>36.897804</td>\n",
              "      <td>57.754189</td>\n",
              "      <td>35.192841</td>\n",
              "      <td>74.235298</td>\n",
              "      <td>71.574371</td>\n",
              "      <td>85.822624</td>\n",
              "      <td>36.139999</td>\n",
              "    </tr>\n",
              "    <tr>\n",
              "      <th>1</th>\n",
              "      <td>2016-02-01</td>\n",
              "      <td>100.671043</td>\n",
              "      <td>52.064243</td>\n",
              "      <td>697.770020</td>\n",
              "      <td>552.520020</td>\n",
              "      <td>46.043667</td>\n",
              "      <td>48.033066</td>\n",
              "      <td>11.132540</td>\n",
              "      <td>33.707108</td>\n",
              "      <td>64.228912</td>\n",
              "      <td>41.061607</td>\n",
              "      <td>67.360649</td>\n",
              "      <td>69.556580</td>\n",
              "      <td>83.956566</td>\n",
              "      <td>38.139999</td>\n",
              "    </tr>\n",
              "    <tr>\n",
              "      <th>2</th>\n",
              "      <td>2016-03-01</td>\n",
              "      <td>108.782211</td>\n",
              "      <td>53.571442</td>\n",
              "      <td>744.950012</td>\n",
              "      <td>593.640015</td>\n",
              "      <td>50.339031</td>\n",
              "      <td>50.524323</td>\n",
              "      <td>12.021718</td>\n",
              "      <td>36.223217</td>\n",
              "      <td>67.336624</td>\n",
              "      <td>44.499886</td>\n",
              "      <td>74.790009</td>\n",
              "      <td>73.631477</td>\n",
              "      <td>91.278160</td>\n",
              "      <td>38.599998</td>\n",
              "    </tr>\n",
              "    <tr>\n",
              "      <th>3</th>\n",
              "      <td>2016-04-01</td>\n",
              "      <td>109.483307</td>\n",
              "      <td>50.457645</td>\n",
              "      <td>693.010010</td>\n",
              "      <td>659.590027</td>\n",
              "      <td>45.453705</td>\n",
              "      <td>53.919910</td>\n",
              "      <td>12.995729</td>\n",
              "      <td>40.153545</td>\n",
              "      <td>66.305466</td>\n",
              "      <td>43.716049</td>\n",
              "      <td>70.465584</td>\n",
              "      <td>74.363144</td>\n",
              "      <td>93.683258</td>\n",
              "      <td>39.180000</td>\n",
              "    </tr>\n",
              "    <tr>\n",
              "      <th>4</th>\n",
              "      <td>2016-05-01</td>\n",
              "      <td>105.648926</td>\n",
              "      <td>49.255203</td>\n",
              "      <td>735.719971</td>\n",
              "      <td>722.789978</td>\n",
              "      <td>48.306515</td>\n",
              "      <td>56.098225</td>\n",
              "      <td>13.201019</td>\n",
              "      <td>40.447887</td>\n",
              "      <td>62.474155</td>\n",
              "      <td>41.198154</td>\n",
              "      <td>70.456474</td>\n",
              "      <td>75.999847</td>\n",
              "      <td>92.817329</td>\n",
              "      <td>37.790001</td>\n",
              "    </tr>\n",
              "    <tr>\n",
              "      <th>...</th>\n",
              "      <td>...</td>\n",
              "      <td>...</td>\n",
              "      <td>...</td>\n",
              "      <td>...</td>\n",
              "      <td>...</td>\n",
              "      <td>...</td>\n",
              "      <td>...</td>\n",
              "      <td>...</td>\n",
              "      <td>...</td>\n",
              "      <td>...</td>\n",
              "      <td>...</td>\n",
              "      <td>...</td>\n",
              "      <td>...</td>\n",
              "      <td>...</td>\n",
              "      <td>...</td>\n",
              "    </tr>\n",
              "    <tr>\n",
              "      <th>66</th>\n",
              "      <td>2021-07-01</td>\n",
              "      <td>240.055786</td>\n",
              "      <td>120.441193</td>\n",
              "      <td>2704.419922</td>\n",
              "      <td>3327.590088</td>\n",
              "      <td>283.846313</td>\n",
              "      <td>150.006454</td>\n",
              "      <td>37.981613</td>\n",
              "      <td>66.635887</td>\n",
              "      <td>145.979996</td>\n",
              "      <td>131.449997</td>\n",
              "      <td>76.870003</td>\n",
              "      <td>245.622177</td>\n",
              "      <td>384.999420</td>\n",
              "      <td>275.529999</td>\n",
              "    </tr>\n",
              "    <tr>\n",
              "      <th>67</th>\n",
              "      <td>2021-08-01</td>\n",
              "      <td>234.863205</td>\n",
              "      <td>116.533272</td>\n",
              "      <td>2909.239990</td>\n",
              "      <td>3470.790039</td>\n",
              "      <td>300.752960</td>\n",
              "      <td>158.991928</td>\n",
              "      <td>41.338173</td>\n",
              "      <td>71.392593</td>\n",
              "      <td>135.139999</td>\n",
              "      <td>124.860001</td>\n",
              "      <td>82.730003</td>\n",
              "      <td>228.386063</td>\n",
              "      <td>345.793121</td>\n",
              "      <td>288.660004</td>\n",
              "    </tr>\n",
              "    <tr>\n",
              "      <th>68</th>\n",
              "      <td>2021-09-01</td>\n",
              "      <td>239.780670</td>\n",
              "      <td>109.836403</td>\n",
              "      <td>2665.310059</td>\n",
              "      <td>3285.040039</td>\n",
              "      <td>281.405182</td>\n",
              "      <td>162.709534</td>\n",
              "      <td>42.031269</td>\n",
              "      <td>69.675041</td>\n",
              "      <td>148.089996</td>\n",
              "      <td>132.110001</td>\n",
              "      <td>88.949997</td>\n",
              "      <td>222.358551</td>\n",
              "      <td>347.241272</td>\n",
              "      <td>260.209991</td>\n",
              "    </tr>\n",
              "    <tr>\n",
              "      <th>69</th>\n",
              "      <td>2021-10-01</td>\n",
              "      <td>244.196198</td>\n",
              "      <td>105.614609</td>\n",
              "      <td>2965.409912</td>\n",
              "      <td>3372.429932</td>\n",
              "      <td>331.014404</td>\n",
              "      <td>168.872391</td>\n",
              "      <td>47.551128</td>\n",
              "      <td>68.662384</td>\n",
              "      <td>160.020004</td>\n",
              "      <td>143.949997</td>\n",
              "      <td>84.430000</td>\n",
              "      <td>211.397858</td>\n",
              "      <td>335.096588</td>\n",
              "      <td>232.589996</td>\n",
              "    </tr>\n",
              "    <tr>\n",
              "      <th>70</th>\n",
              "      <td>2021-11-01</td>\n",
              "      <td>243.251434</td>\n",
              "      <td>109.169281</td>\n",
              "      <td>2849.040039</td>\n",
              "      <td>3507.070068</td>\n",
              "      <td>329.986298</td>\n",
              "      <td>158.830002</td>\n",
              "      <td>44.256985</td>\n",
              "      <td>63.700001</td>\n",
              "      <td>147.559998</td>\n",
              "      <td>135.070007</td>\n",
              "      <td>69.820000</td>\n",
              "      <td>193.429489</td>\n",
              "      <td>314.920013</td>\n",
              "      <td>184.889999</td>\n",
              "    </tr>\n",
              "  </tbody>\n",
              "</table>\n",
              "<p>71 rows × 15 columns</p>\n",
              "</div>\n",
              "    <div class=\"colab-df-buttons\">\n",
              "\n",
              "  <div class=\"colab-df-container\">\n",
              "    <button class=\"colab-df-convert\" onclick=\"convertToInteractive('df-d17c373b-9405-4c14-9e9a-f2bcb0d3008d')\"\n",
              "            title=\"Convert this dataframe to an interactive table.\"\n",
              "            style=\"display:none;\">\n",
              "\n",
              "  <svg xmlns=\"http://www.w3.org/2000/svg\" height=\"24px\" viewBox=\"0 -960 960 960\">\n",
              "    <path d=\"M120-120v-720h720v720H120Zm60-500h600v-160H180v160Zm220 220h160v-160H400v160Zm0 220h160v-160H400v160ZM180-400h160v-160H180v160Zm440 0h160v-160H620v160ZM180-180h160v-160H180v160Zm440 0h160v-160H620v160Z\"/>\n",
              "  </svg>\n",
              "    </button>\n",
              "\n",
              "  <style>\n",
              "    .colab-df-container {\n",
              "      display:flex;\n",
              "      gap: 12px;\n",
              "    }\n",
              "\n",
              "    .colab-df-convert {\n",
              "      background-color: #E8F0FE;\n",
              "      border: none;\n",
              "      border-radius: 50%;\n",
              "      cursor: pointer;\n",
              "      display: none;\n",
              "      fill: #1967D2;\n",
              "      height: 32px;\n",
              "      padding: 0 0 0 0;\n",
              "      width: 32px;\n",
              "    }\n",
              "\n",
              "    .colab-df-convert:hover {\n",
              "      background-color: #E2EBFA;\n",
              "      box-shadow: 0px 1px 2px rgba(60, 64, 67, 0.3), 0px 1px 3px 1px rgba(60, 64, 67, 0.15);\n",
              "      fill: #174EA6;\n",
              "    }\n",
              "\n",
              "    .colab-df-buttons div {\n",
              "      margin-bottom: 4px;\n",
              "    }\n",
              "\n",
              "    [theme=dark] .colab-df-convert {\n",
              "      background-color: #3B4455;\n",
              "      fill: #D2E3FC;\n",
              "    }\n",
              "\n",
              "    [theme=dark] .colab-df-convert:hover {\n",
              "      background-color: #434B5C;\n",
              "      box-shadow: 0px 1px 3px 1px rgba(0, 0, 0, 0.15);\n",
              "      filter: drop-shadow(0px 1px 2px rgba(0, 0, 0, 0.3));\n",
              "      fill: #FFFFFF;\n",
              "    }\n",
              "  </style>\n",
              "\n",
              "    <script>\n",
              "      const buttonEl =\n",
              "        document.querySelector('#df-d17c373b-9405-4c14-9e9a-f2bcb0d3008d button.colab-df-convert');\n",
              "      buttonEl.style.display =\n",
              "        google.colab.kernel.accessAllowed ? 'block' : 'none';\n",
              "\n",
              "      async function convertToInteractive(key) {\n",
              "        const element = document.querySelector('#df-d17c373b-9405-4c14-9e9a-f2bcb0d3008d');\n",
              "        const dataTable =\n",
              "          await google.colab.kernel.invokeFunction('convertToInteractive',\n",
              "                                                    [key], {});\n",
              "        if (!dataTable) return;\n",
              "\n",
              "        const docLinkHtml = 'Like what you see? Visit the ' +\n",
              "          '<a target=\"_blank\" href=https://colab.research.google.com/notebooks/data_table.ipynb>data table notebook</a>'\n",
              "          + ' to learn more about interactive tables.';\n",
              "        element.innerHTML = '';\n",
              "        dataTable['output_type'] = 'display_data';\n",
              "        await google.colab.output.renderOutput(dataTable, element);\n",
              "        const docLink = document.createElement('div');\n",
              "        docLink.innerHTML = docLinkHtml;\n",
              "        element.appendChild(docLink);\n",
              "      }\n",
              "    </script>\n",
              "  </div>\n",
              "\n",
              "\n",
              "    <div id=\"df-f5d871a7-069e-4bda-ad6a-086dfc5d4c07\">\n",
              "      <button class=\"colab-df-quickchart\" onclick=\"quickchart('df-f5d871a7-069e-4bda-ad6a-086dfc5d4c07')\"\n",
              "                title=\"Suggest charts\"\n",
              "                style=\"display:none;\">\n",
              "\n",
              "<svg xmlns=\"http://www.w3.org/2000/svg\" height=\"24px\"viewBox=\"0 0 24 24\"\n",
              "     width=\"24px\">\n",
              "    <g>\n",
              "        <path d=\"M19 3H5c-1.1 0-2 .9-2 2v14c0 1.1.9 2 2 2h14c1.1 0 2-.9 2-2V5c0-1.1-.9-2-2-2zM9 17H7v-7h2v7zm4 0h-2V7h2v10zm4 0h-2v-4h2v4z\"/>\n",
              "    </g>\n",
              "</svg>\n",
              "      </button>\n",
              "\n",
              "<style>\n",
              "  .colab-df-quickchart {\n",
              "      --bg-color: #E8F0FE;\n",
              "      --fill-color: #1967D2;\n",
              "      --hover-bg-color: #E2EBFA;\n",
              "      --hover-fill-color: #174EA6;\n",
              "      --disabled-fill-color: #AAA;\n",
              "      --disabled-bg-color: #DDD;\n",
              "  }\n",
              "\n",
              "  [theme=dark] .colab-df-quickchart {\n",
              "      --bg-color: #3B4455;\n",
              "      --fill-color: #D2E3FC;\n",
              "      --hover-bg-color: #434B5C;\n",
              "      --hover-fill-color: #FFFFFF;\n",
              "      --disabled-bg-color: #3B4455;\n",
              "      --disabled-fill-color: #666;\n",
              "  }\n",
              "\n",
              "  .colab-df-quickchart {\n",
              "    background-color: var(--bg-color);\n",
              "    border: none;\n",
              "    border-radius: 50%;\n",
              "    cursor: pointer;\n",
              "    display: none;\n",
              "    fill: var(--fill-color);\n",
              "    height: 32px;\n",
              "    padding: 0;\n",
              "    width: 32px;\n",
              "  }\n",
              "\n",
              "  .colab-df-quickchart:hover {\n",
              "    background-color: var(--hover-bg-color);\n",
              "    box-shadow: 0 1px 2px rgba(60, 64, 67, 0.3), 0 1px 3px 1px rgba(60, 64, 67, 0.15);\n",
              "    fill: var(--button-hover-fill-color);\n",
              "  }\n",
              "\n",
              "  .colab-df-quickchart-complete:disabled,\n",
              "  .colab-df-quickchart-complete:disabled:hover {\n",
              "    background-color: var(--disabled-bg-color);\n",
              "    fill: var(--disabled-fill-color);\n",
              "    box-shadow: none;\n",
              "  }\n",
              "\n",
              "  .colab-df-spinner {\n",
              "    border: 2px solid var(--fill-color);\n",
              "    border-color: transparent;\n",
              "    border-bottom-color: var(--fill-color);\n",
              "    animation:\n",
              "      spin 1s steps(1) infinite;\n",
              "  }\n",
              "\n",
              "  @keyframes spin {\n",
              "    0% {\n",
              "      border-color: transparent;\n",
              "      border-bottom-color: var(--fill-color);\n",
              "      border-left-color: var(--fill-color);\n",
              "    }\n",
              "    20% {\n",
              "      border-color: transparent;\n",
              "      border-left-color: var(--fill-color);\n",
              "      border-top-color: var(--fill-color);\n",
              "    }\n",
              "    30% {\n",
              "      border-color: transparent;\n",
              "      border-left-color: var(--fill-color);\n",
              "      border-top-color: var(--fill-color);\n",
              "      border-right-color: var(--fill-color);\n",
              "    }\n",
              "    40% {\n",
              "      border-color: transparent;\n",
              "      border-right-color: var(--fill-color);\n",
              "      border-top-color: var(--fill-color);\n",
              "    }\n",
              "    60% {\n",
              "      border-color: transparent;\n",
              "      border-right-color: var(--fill-color);\n",
              "    }\n",
              "    80% {\n",
              "      border-color: transparent;\n",
              "      border-right-color: var(--fill-color);\n",
              "      border-bottom-color: var(--fill-color);\n",
              "    }\n",
              "    90% {\n",
              "      border-color: transparent;\n",
              "      border-bottom-color: var(--fill-color);\n",
              "    }\n",
              "  }\n",
              "</style>\n",
              "\n",
              "      <script>\n",
              "        async function quickchart(key) {\n",
              "          const quickchartButtonEl =\n",
              "            document.querySelector('#' + key + ' button');\n",
              "          quickchartButtonEl.disabled = true;  // To prevent multiple clicks.\n",
              "          quickchartButtonEl.classList.add('colab-df-spinner');\n",
              "          try {\n",
              "            const charts = await google.colab.kernel.invokeFunction(\n",
              "                'suggestCharts', [key], {});\n",
              "          } catch (error) {\n",
              "            console.error('Error during call to suggestCharts:', error);\n",
              "          }\n",
              "          quickchartButtonEl.classList.remove('colab-df-spinner');\n",
              "          quickchartButtonEl.classList.add('colab-df-quickchart-complete');\n",
              "        }\n",
              "        (() => {\n",
              "          let quickchartButtonEl =\n",
              "            document.querySelector('#df-f5d871a7-069e-4bda-ad6a-086dfc5d4c07 button');\n",
              "          quickchartButtonEl.style.display =\n",
              "            google.colab.kernel.accessAllowed ? 'block' : 'none';\n",
              "        })();\n",
              "      </script>\n",
              "    </div>\n",
              "\n",
              "  <div id=\"id_57d1fd8c-029e-4851-90d2-4d5a780892d8\">\n",
              "    <style>\n",
              "      .colab-df-generate {\n",
              "        background-color: #E8F0FE;\n",
              "        border: none;\n",
              "        border-radius: 50%;\n",
              "        cursor: pointer;\n",
              "        display: none;\n",
              "        fill: #1967D2;\n",
              "        height: 32px;\n",
              "        padding: 0 0 0 0;\n",
              "        width: 32px;\n",
              "      }\n",
              "\n",
              "      .colab-df-generate:hover {\n",
              "        background-color: #E2EBFA;\n",
              "        box-shadow: 0px 1px 2px rgba(60, 64, 67, 0.3), 0px 1px 3px 1px rgba(60, 64, 67, 0.15);\n",
              "        fill: #174EA6;\n",
              "      }\n",
              "\n",
              "      [theme=dark] .colab-df-generate {\n",
              "        background-color: #3B4455;\n",
              "        fill: #D2E3FC;\n",
              "      }\n",
              "\n",
              "      [theme=dark] .colab-df-generate:hover {\n",
              "        background-color: #434B5C;\n",
              "        box-shadow: 0px 1px 3px 1px rgba(0, 0, 0, 0.15);\n",
              "        filter: drop-shadow(0px 1px 2px rgba(0, 0, 0, 0.3));\n",
              "        fill: #FFFFFF;\n",
              "      }\n",
              "    </style>\n",
              "    <button class=\"colab-df-generate\" onclick=\"generateWithVariable('stocks')\"\n",
              "            title=\"Generate code using this dataframe.\"\n",
              "            style=\"display:none;\">\n",
              "\n",
              "  <svg xmlns=\"http://www.w3.org/2000/svg\" height=\"24px\"viewBox=\"0 0 24 24\"\n",
              "       width=\"24px\">\n",
              "    <path d=\"M7,19H8.4L18.45,9,17,7.55,7,17.6ZM5,21V16.75L18.45,3.32a2,2,0,0,1,2.83,0l1.4,1.43a1.91,1.91,0,0,1,.58,1.4,1.91,1.91,0,0,1-.58,1.4L9.25,21ZM18.45,9,17,7.55Zm-12,3A5.31,5.31,0,0,0,4.9,8.1,5.31,5.31,0,0,0,1,6.5,5.31,5.31,0,0,0,4.9,4.9,5.31,5.31,0,0,0,6.5,1,5.31,5.31,0,0,0,8.1,4.9,5.31,5.31,0,0,0,12,6.5,5.46,5.46,0,0,0,6.5,12Z\"/>\n",
              "  </svg>\n",
              "    </button>\n",
              "    <script>\n",
              "      (() => {\n",
              "      const buttonEl =\n",
              "        document.querySelector('#id_57d1fd8c-029e-4851-90d2-4d5a780892d8 button.colab-df-generate');\n",
              "      buttonEl.style.display =\n",
              "        google.colab.kernel.accessAllowed ? 'block' : 'none';\n",
              "\n",
              "      buttonEl.onclick = () => {\n",
              "        google.colab.notebook.generateWithVariable('stocks');\n",
              "      }\n",
              "      })();\n",
              "    </script>\n",
              "  </div>\n",
              "\n",
              "    </div>\n",
              "  </div>\n"
            ],
            "application/vnd.google.colaboratory.intrinsic+json": {
              "type": "dataframe",
              "variable_name": "stocks",
              "summary": "{\n  \"name\": \"stocks\",\n  \"rows\": 71,\n  \"fields\": [\n    {\n      \"column\": \"formatted_date\",\n      \"properties\": {\n        \"dtype\": \"object\",\n        \"num_unique_values\": 71,\n        \"samples\": [\n          \"2017-11-01\",\n          \"2016-01-01\",\n          \"2020-02-01\"\n        ],\n        \"semantic_type\": \"\",\n        \"description\": \"\"\n      }\n    },\n    {\n      \"column\": \"McDonalds Corporation\",\n      \"properties\": {\n        \"dtype\": \"number\",\n        \"std\": 42.87605387768779,\n        \"min\": 98.9138412475586,\n        \"max\": 244.1961975097656,\n        \"num_unique_values\": 71,\n        \"samples\": [\n          155.28128051757812,\n          106.33214569091795,\n          185.2031707763672\n        ],\n        \"semantic_type\": \"\",\n        \"description\": \"\"\n      }\n    },\n    {\n      \"column\": \"Starbucks Corporation\",\n      \"properties\": {\n        \"dtype\": \"number\",\n        \"std\": 22.053341500098696,\n        \"min\": 45.65204620361328,\n        \"max\": 120.44119262695312,\n        \"num_unique_values\": 71,\n        \"samples\": [\n          53.18201446533203,\n          54.35396194458008,\n          75.59546661376953\n        ],\n        \"semantic_type\": \"\",\n        \"description\": \"\"\n      }\n    },\n    {\n      \"column\": \"Alphabet Inc. (Google)\",\n      \"properties\": {\n        \"dtype\": \"number\",\n        \"std\": 583.4365503451131,\n        \"min\": 692.0999755859375,\n        \"max\": 2965.409912109375,\n        \"num_unique_values\": 71,\n        \"samples\": [\n          1021.4099731445312,\n          742.9500122070312,\n          1339.3299560546875\n        ],\n        \"semantic_type\": \"\",\n        \"description\": \"\"\n      }\n    },\n    {\n      \"column\": \"Amazon.com, Inc.\",\n      \"properties\": {\n        \"dtype\": \"number\",\n        \"std\": 944.397336607951,\n        \"min\": 552.52001953125,\n        \"max\": 3507.070068359375,\n        \"num_unique_values\": 71,\n        \"samples\": [\n          1176.75,\n          587.0,\n          1883.75\n        ],\n        \"semantic_type\": \"\",\n        \"description\": \"\"\n      }\n    },\n    {\n      \"column\": \"Microsoft Corporation\",\n      \"properties\": {\n        \"dtype\": \"number\",\n        \"std\": 77.76576844521375,\n        \"min\": 45.453704833984375,\n        \"max\": 331.014404296875,\n        \"num_unique_values\": 71,\n        \"samples\": [\n          79.60704803466797,\n          49.85348892211914,\n          158.97911071777344\n        ],\n        \"semantic_type\": \"\",\n        \"description\": \"\"\n      }\n    },\n    {\n      \"column\": \"JPMorgan Chase & Co.\",\n      \"properties\": {\n        \"dtype\": \"number\",\n        \"std\": 30.23569525028122,\n        \"min\": 48.03306579589844,\n        \"max\": 168.8723907470703,\n        \"num_unique_values\": 71,\n        \"samples\": [\n          93.2709732055664,\n          50.4249382019043,\n          109.99821472167967\n        ],\n        \"semantic_type\": \"\",\n        \"description\": \"\"\n      }\n    },\n    {\n      \"column\": \"Bank of America Corporation\",\n      \"properties\": {\n        \"dtype\": \"number\",\n        \"std\": 8.08916750913528,\n        \"min\": 11.132539749145508,\n        \"max\": 47.55112838745117,\n        \"num_unique_values\": 71,\n        \"samples\": [\n          25.73257827758789,\n          12.573010444641112,\n          27.231388092041016\n        ],\n        \"semantic_type\": \"\",\n        \"description\": \"\"\n      }\n    },\n    {\n      \"column\": \"Citigroup Inc.\",\n      \"properties\": {\n        \"dtype\": \"number\",\n        \"std\": 10.997466136744357,\n        \"min\": 33.70710754394531,\n        \"max\": 77.56448364257812,\n        \"num_unique_values\": 71,\n        \"samples\": [\n          66.70340728759766,\n          36.89780426025391,\n          59.58349990844727\n        ],\n        \"semantic_type\": \"\",\n        \"description\": \"\"\n      }\n    },\n    {\n      \"column\": \"Marriott International, Inc.\",\n      \"properties\": {\n        \"dtype\": \"number\",\n        \"std\": 28.17018145258525,\n        \"min\": 57.754188537597656,\n        \"max\": 160.02000427246094,\n        \"num_unique_values\": 71,\n        \"samples\": [\n          122.88818359375,\n          57.754188537597656,\n          123.5047836303711\n        ],\n        \"semantic_type\": \"\",\n        \"description\": \"\"\n      }\n    },\n    {\n      \"column\": \"Hilton Worldwide Holdings Inc.\",\n      \"properties\": {\n        \"dtype\": \"number\",\n        \"std\": 26.520323630173127,\n        \"min\": 35.192840576171875,\n        \"max\": 143.9499969482422,\n        \"num_unique_values\": 71,\n        \"samples\": [\n          76.19341278076172,\n          35.192840576171875,\n          97.0510711669922\n        ],\n        \"semantic_type\": \"\",\n        \"description\": \"\"\n      }\n    },\n    {\n      \"column\": \"Royal Caribbean Cruises Ltd.\",\n      \"properties\": {\n        \"dtype\": \"number\",\n        \"std\": 22.909133430646904,\n        \"min\": 31.85381126403809,\n        \"max\": 131.3896026611328,\n        \"num_unique_values\": 70,\n        \"samples\": [\n          116.42937469482422,\n          74.23529815673828,\n          79.61968231201172\n        ],\n        \"semantic_type\": \"\",\n        \"description\": \"\"\n      }\n    },\n    {\n      \"column\": \"Visa Inc.\",\n      \"properties\": {\n        \"dtype\": \"number\",\n        \"std\": 52.414161839201256,\n        \"min\": 69.55657958984375,\n        \"max\": 245.62217712402344,\n        \"num_unique_values\": 71,\n        \"samples\": [\n          109.5832977294922,\n          71.57437133789062,\n          179.54515075683594\n        ],\n        \"semantic_type\": \"\",\n        \"description\": \"\"\n      }\n    },\n    {\n      \"column\": \"Mastercard Incorporated\",\n      \"properties\": {\n        \"dtype\": \"number\",\n        \"std\": 95.46965898162611,\n        \"min\": 83.9565658569336,\n        \"max\": 384.9994201660156,\n        \"num_unique_values\": 71,\n        \"samples\": [\n          147.30908203125,\n          85.82262420654297,\n          287.6676330566406\n        ],\n        \"semantic_type\": \"\",\n        \"description\": \"\"\n      }\n    },\n    {\n      \"column\": \"PayPal Holdings, Inc.\",\n      \"properties\": {\n        \"dtype\": \"number\",\n        \"std\": 75.91408724106374,\n        \"min\": 36.13999938964844,\n        \"max\": 291.4800109863281,\n        \"num_unique_values\": 71,\n        \"samples\": [\n          75.7300033569336,\n          36.13999938964844,\n          107.98999786376952\n        ],\n        \"semantic_type\": \"\",\n        \"description\": \"\"\n      }\n    }\n  ]\n}"
            }
          },
          "metadata": {},
          "execution_count": 107
        }
      ]
    },
    {
      "cell_type": "code",
      "source": [
        "stocks[\"dates_index\"] = pd.to_datetime(stocks[\"formatted_date\"])"
      ],
      "metadata": {
        "id": "N_wmpAsPSCew"
      },
      "execution_count": 108,
      "outputs": []
    },
    {
      "cell_type": "code",
      "source": [
        "stocks.info()"
      ],
      "metadata": {
        "colab": {
          "base_uri": "https://localhost:8080/"
        },
        "id": "gcvnvDe6SGtw",
        "outputId": "a901fdbb-79ea-4b34-b566-4a2df8dbaa7c"
      },
      "execution_count": 109,
      "outputs": [
        {
          "output_type": "stream",
          "name": "stdout",
          "text": [
            "<class 'pandas.core.frame.DataFrame'>\n",
            "RangeIndex: 71 entries, 0 to 70\n",
            "Data columns (total 16 columns):\n",
            " #   Column                          Non-Null Count  Dtype         \n",
            "---  ------                          --------------  -----         \n",
            " 0   formatted_date                  71 non-null     object        \n",
            " 1   McDonalds Corporation           71 non-null     float64       \n",
            " 2   Starbucks Corporation           71 non-null     float64       \n",
            " 3   Alphabet Inc. (Google)          71 non-null     float64       \n",
            " 4   Amazon.com, Inc.                71 non-null     float64       \n",
            " 5   Microsoft Corporation           71 non-null     float64       \n",
            " 6   JPMorgan Chase & Co.            71 non-null     float64       \n",
            " 7   Bank of America Corporation     71 non-null     float64       \n",
            " 8   Citigroup Inc.                  71 non-null     float64       \n",
            " 9   Marriott International, Inc.    71 non-null     float64       \n",
            " 10  Hilton Worldwide Holdings Inc.  71 non-null     float64       \n",
            " 11  Royal Caribbean Cruises Ltd.    71 non-null     float64       \n",
            " 12  Visa Inc.                       71 non-null     float64       \n",
            " 13  Mastercard Incorporated         71 non-null     float64       \n",
            " 14  PayPal Holdings, Inc.           71 non-null     float64       \n",
            " 15  dates_index                     71 non-null     datetime64[ns]\n",
            "dtypes: datetime64[ns](1), float64(14), object(1)\n",
            "memory usage: 9.0+ KB\n"
          ]
        }
      ]
    },
    {
      "cell_type": "code",
      "source": [
        "stocks = stocks.set_index(\"dates_index\", inplace=True)"
      ],
      "metadata": {
        "id": "dWXYqgOJTZ9R"
      },
      "execution_count": 110,
      "outputs": []
    },
    {
      "cell_type": "code",
      "source": [
        "stocks"
      ],
      "metadata": {
        "id": "nwuYrnw9TnpQ"
      },
      "execution_count": 112,
      "outputs": []
    },
    {
      "cell_type": "code",
      "source": [
        "stocks.drop(columns=[\"formatted_date\"],inplace=True)"
      ],
      "metadata": {
        "colab": {
          "base_uri": "https://localhost:8080/",
          "height": 141
        },
        "id": "R01dFnF3TsSh",
        "outputId": "9ab4e0e2-5328-40eb-cc26-49b5f0d9245b"
      },
      "execution_count": 116,
      "outputs": [
        {
          "output_type": "error",
          "ename": "AttributeError",
          "evalue": "'NoneType' object has no attribute 'drop'",
          "traceback": [
            "\u001b[0;31m---------------------------------------------------------------------------\u001b[0m",
            "\u001b[0;31mAttributeError\u001b[0m                            Traceback (most recent call last)",
            "\u001b[0;32m<ipython-input-116-79a899420028>\u001b[0m in \u001b[0;36m<cell line: 0>\u001b[0;34m()\u001b[0m\n\u001b[0;32m----> 1\u001b[0;31m \u001b[0mstocks\u001b[0m\u001b[0;34m.\u001b[0m\u001b[0mdrop\u001b[0m\u001b[0;34m(\u001b[0m\u001b[0mcolumns\u001b[0m\u001b[0;34m=\u001b[0m\u001b[0;34m[\u001b[0m\u001b[0;34m\"formatted_date\"\u001b[0m\u001b[0;34m]\u001b[0m\u001b[0;34m,\u001b[0m\u001b[0minplace\u001b[0m\u001b[0;34m=\u001b[0m\u001b[0;32mTrue\u001b[0m\u001b[0;34m)\u001b[0m\u001b[0;34m\u001b[0m\u001b[0;34m\u001b[0m\u001b[0m\n\u001b[0m",
            "\u001b[0;31mAttributeError\u001b[0m: 'NoneType' object has no attribute 'drop'"
          ]
        }
      ]
    },
    {
      "cell_type": "code",
      "source": [
        "stocks"
      ],
      "metadata": {
        "id": "vHaUvsYNUPXp"
      },
      "execution_count": 117,
      "outputs": []
    },
    {
      "cell_type": "code",
      "source": [
        "plt.figure(figsize=(16,9))\n",
        "\n",
        "for column in stocks.columns:\n",
        "    plt.plot(stocks.index, stocks[column], label=column)\n",
        "\n",
        "plt.xlabel('Fecha')\n",
        "plt.ylabel('Precio')\n",
        "plt.title('Stocks values')\n",
        "plt.legend(loc='upper left', bbox_to_anchor=(1, 1))\n",
        "plt.grid(True)\n",
        "plt.tight_layout()\n",
        "plt.show ()"
      ],
      "metadata": {
        "colab": {
          "base_uri": "https://localhost:8080/",
          "height": 228
        },
        "id": "4chyNkOLUTgR",
        "outputId": "2360c75b-2557-42be-aa39-90b0c799d626"
      },
      "execution_count": 118,
      "outputs": [
        {
          "output_type": "error",
          "ename": "AttributeError",
          "evalue": "'NoneType' object has no attribute 'columns'",
          "traceback": [
            "\u001b[0;31m---------------------------------------------------------------------------\u001b[0m",
            "\u001b[0;31mAttributeError\u001b[0m                            Traceback (most recent call last)",
            "\u001b[0;32m<ipython-input-118-55258a6efe33>\u001b[0m in \u001b[0;36m<cell line: 0>\u001b[0;34m()\u001b[0m\n\u001b[1;32m      1\u001b[0m \u001b[0mplt\u001b[0m\u001b[0;34m.\u001b[0m\u001b[0mfigure\u001b[0m\u001b[0;34m(\u001b[0m\u001b[0mfigsize\u001b[0m\u001b[0;34m=\u001b[0m\u001b[0;34m(\u001b[0m\u001b[0;36m16\u001b[0m\u001b[0;34m,\u001b[0m\u001b[0;36m9\u001b[0m\u001b[0;34m)\u001b[0m\u001b[0;34m)\u001b[0m\u001b[0;34m\u001b[0m\u001b[0;34m\u001b[0m\u001b[0m\n\u001b[1;32m      2\u001b[0m \u001b[0;34m\u001b[0m\u001b[0m\n\u001b[0;32m----> 3\u001b[0;31m \u001b[0;32mfor\u001b[0m \u001b[0mcolumn\u001b[0m \u001b[0;32min\u001b[0m \u001b[0mstocks\u001b[0m\u001b[0;34m.\u001b[0m\u001b[0mcolumns\u001b[0m\u001b[0;34m:\u001b[0m\u001b[0;34m\u001b[0m\u001b[0;34m\u001b[0m\u001b[0m\n\u001b[0m\u001b[1;32m      4\u001b[0m     \u001b[0mplt\u001b[0m\u001b[0;34m.\u001b[0m\u001b[0mplot\u001b[0m\u001b[0;34m(\u001b[0m\u001b[0mstocks\u001b[0m\u001b[0;34m.\u001b[0m\u001b[0mindex\u001b[0m\u001b[0;34m,\u001b[0m \u001b[0mstocks\u001b[0m\u001b[0;34m[\u001b[0m\u001b[0mcolumn\u001b[0m\u001b[0;34m]\u001b[0m\u001b[0;34m,\u001b[0m \u001b[0mlabel\u001b[0m\u001b[0;34m=\u001b[0m\u001b[0mcolumn\u001b[0m\u001b[0;34m)\u001b[0m\u001b[0;34m\u001b[0m\u001b[0;34m\u001b[0m\u001b[0m\n\u001b[1;32m      5\u001b[0m \u001b[0;34m\u001b[0m\u001b[0m\n",
            "\u001b[0;31mAttributeError\u001b[0m: 'NoneType' object has no attribute 'columns'"
          ]
        },
        {
          "output_type": "display_data",
          "data": {
            "text/plain": [
              "<Figure size 1600x900 with 0 Axes>"
            ]
          },
          "metadata": {}
        }
      ]
    }
  ]
}