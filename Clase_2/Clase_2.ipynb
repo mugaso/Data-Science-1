{
  "nbformat": 4,
  "nbformat_minor": 0,
  "metadata": {
    "colab": {
      "provenance": [],
      "authorship_tag": "ABX9TyP8Rcvua1PPSkSSoNqVkHwL",
      "include_colab_link": true
    },
    "kernelspec": {
      "name": "python3",
      "display_name": "Python 3"
    },
    "language_info": {
      "name": "python"
    }
  },
  "cells": [
    {
      "cell_type": "markdown",
      "metadata": {
        "id": "view-in-github",
        "colab_type": "text"
      },
      "source": [
        "<a href=\"https://colab.research.google.com/github/mugaso/Data-Science-1/blob/main/Clase_2/Clase_2.ipynb\" target=\"_parent\"><img src=\"https://colab.research.google.com/assets/colab-badge.svg\" alt=\"Open In Colab\"/></a>"
      ]
    },
    {
      "cell_type": "code",
      "execution_count": 198,
      "metadata": {
        "colab": {
          "base_uri": "https://localhost:8080/"
        },
        "id": "KbbtS2TJ8_b8",
        "outputId": "a602b60a-351f-4cbf-cc61-0dc3c3531030"
      },
      "outputs": [
        {
          "output_type": "stream",
          "name": "stdout",
          "text": [
            "Hola, mundo\n"
          ]
        }
      ],
      "source": [
        "print(\"Hola, mundo\")"
      ]
    },
    {
      "cell_type": "code",
      "source": [
        "nombre = input(\"Ingresa tu nombre: \")"
      ],
      "metadata": {
        "colab": {
          "base_uri": "https://localhost:8080/"
        },
        "id": "QBN2ASiM_oMi",
        "outputId": "d2cf8a40-ff84-4438-8072-b2815af7c9b2"
      },
      "execution_count": 199,
      "outputs": [
        {
          "name": "stdout",
          "output_type": "stream",
          "text": [
            "Ingresa tu nombre: Miguel\n"
          ]
        }
      ]
    },
    {
      "cell_type": "code",
      "source": [
        "print(\"Hola\", nombre)"
      ],
      "metadata": {
        "colab": {
          "base_uri": "https://localhost:8080/"
        },
        "id": "LuYy-9FW_9Yh",
        "outputId": "702509df-ab9d-4c57-e5b7-2e4a9bb9a401"
      },
      "execution_count": 200,
      "outputs": [
        {
          "output_type": "stream",
          "name": "stdout",
          "text": [
            "Hola Miguel\n"
          ]
        }
      ]
    },
    {
      "cell_type": "code",
      "source": [
        "nombre = 129.99"
      ],
      "metadata": {
        "id": "-XM-oVcFAPJI"
      },
      "execution_count": 201,
      "outputs": []
    },
    {
      "cell_type": "code",
      "source": [
        "print(nombre)"
      ],
      "metadata": {
        "colab": {
          "base_uri": "https://localhost:8080/"
        },
        "id": "LTd52bU1AoWY",
        "outputId": "369d9edb-9ac3-4872-9e5f-2916f2d7d06a"
      },
      "execution_count": 202,
      "outputs": [
        {
          "output_type": "stream",
          "name": "stdout",
          "text": [
            "129.99\n"
          ]
        }
      ]
    },
    {
      "cell_type": "code",
      "source": [
        "lista_de_nombres = \"\"\"\n",
        "1.  Hugo\n",
        "2.  Martín\n",
        "3.  Lucas\n",
        "4.  Mateo\n",
        "5.  Leo\n",
        "6.  Daniel\n",
        "7.  Alejandro\n",
        "8.  Pablo\n",
        "9.  Manuel\n",
        "10.  Álvaro\n",
        "11.  Adrián\n",
        "12.  David\n",
        "13.  Mario\n",
        "\"\"\"\n",
        "\n",
        "print(lista_de_nombres)"
      ],
      "metadata": {
        "colab": {
          "base_uri": "https://localhost:8080/"
        },
        "id": "IzJ-l1woBeRF",
        "outputId": "82221871-ff09-4039-e5fd-d0d8ebaaaf5e"
      },
      "execution_count": 203,
      "outputs": [
        {
          "output_type": "stream",
          "name": "stdout",
          "text": [
            "\n",
            "1.  Hugo \n",
            "2.  Martín \n",
            "3.  Lucas \n",
            "4.  Mateo \n",
            "5.  Leo \n",
            "6.  Daniel \n",
            "7.  Alejandro \n",
            "8.  Pablo \n",
            "9.  Manuel \n",
            "10.  Álvaro \n",
            "11.  Adrián \n",
            "12.  David \n",
            "13.  Mario \n",
            "\n"
          ]
        }
      ]
    },
    {
      "cell_type": "code",
      "source": [
        " lista_cleaned = lista_de_nombres.split(\"\\n\")"
      ],
      "metadata": {
        "id": "0fPDamXbCM26"
      },
      "execution_count": 204,
      "outputs": []
    },
    {
      "cell_type": "code",
      "source": [
        "lista_cleaned[4]"
      ],
      "metadata": {
        "colab": {
          "base_uri": "https://localhost:8080/",
          "height": 35
        },
        "id": "XMrT82JWDXAe",
        "outputId": "872de41a-7b54-4b5e-8a27-7594e57c86de"
      },
      "execution_count": 205,
      "outputs": [
        {
          "output_type": "execute_result",
          "data": {
            "text/plain": [
              "'4.  Mateo '"
            ],
            "application/vnd.google.colaboratory.intrinsic+json": {
              "type": "string"
            }
          },
          "metadata": {},
          "execution_count": 205
        }
      ]
    },
    {
      "cell_type": "code",
      "source": [
        "lista_completamente_limpia = []"
      ],
      "metadata": {
        "id": "l2gqsncEFB7H"
      },
      "execution_count": 206,
      "outputs": []
    },
    {
      "cell_type": "code",
      "source": [
        "for name in lista_cleaned:\n",
        "  if name == \"\":\n",
        "    print(\"este elemento es vacio\")\n",
        "  else:\n",
        "    solo_nombre = name.split(\"  \")[1]\n",
        "    solo_nombre_no_spaces = solo_nombre.strip().lower()\n",
        "    lista_completamente_limpia.append(solo_nombre_no_spaces)"
      ],
      "metadata": {
        "colab": {
          "base_uri": "https://localhost:8080/"
        },
        "id": "btzG_YhJDbty",
        "outputId": "98d131a4-1ef0-469e-f966-ccca879069ea"
      },
      "execution_count": 207,
      "outputs": [
        {
          "output_type": "stream",
          "name": "stdout",
          "text": [
            "este elemento es vacio\n",
            "este elemento es vacio\n"
          ]
        }
      ]
    },
    {
      "cell_type": "code",
      "source": [
        "lista_completamente_limpia"
      ],
      "metadata": {
        "colab": {
          "base_uri": "https://localhost:8080/"
        },
        "id": "js3x_tcWD1t0",
        "outputId": "179eed27-09d9-4b1a-d506-f4bbfb1f0679"
      },
      "execution_count": 208,
      "outputs": [
        {
          "output_type": "execute_result",
          "data": {
            "text/plain": [
              "['hugo',\n",
              " 'martín',\n",
              " 'lucas',\n",
              " 'mateo',\n",
              " 'leo',\n",
              " 'daniel',\n",
              " 'alejandro',\n",
              " 'pablo',\n",
              " 'manuel',\n",
              " 'álvaro',\n",
              " 'adrián',\n",
              " 'david',\n",
              " 'mario']"
            ]
          },
          "metadata": {},
          "execution_count": 208
        }
      ]
    },
    {
      "cell_type": "code",
      "source": [
        "def limpiador_de_texto(nombre_corregir, lista_output):\n",
        "    if nombre_corregir != \"\":\n",
        "        solo_nombre = nombre_corregir.split(\"  \")[1]\n",
        "        solo_nombre_no_spaces = solo_nombre.strip().lower()\n",
        "        lista_output.append(solo_nombre_no_spaces)\n"
      ],
      "metadata": {
        "id": "rm9UAZiOWMbW"
      },
      "execution_count": 209,
      "outputs": []
    },
    {
      "cell_type": "code",
      "source": [
        "for name in lista_cleaned:\n",
        "  # if name == \"\":\n",
        "  #   print(\"este elemento es vacio\")\n",
        "  # else:\n",
        "  #   solo_nombre = name.split(\"  \")[1]\n",
        "  #   solo_nombre_no_spaces = solo_nombre.strip().lower()\n",
        "  #   lista_completamente_limpia.append(solo_nombre_no_spaces)\n",
        "  if name != \"\":\n",
        "    solo_nombre = name.split(\"  \")[1]\n",
        "    solo_nombre_no_spaces = solo_nombre.strip().lower()\n",
        "    lista_completamente_limpia.append(solo_nombre_no_spaces)"
      ],
      "metadata": {
        "id": "bLtEP1cpLK9p"
      },
      "execution_count": 210,
      "outputs": []
    },
    {
      "cell_type": "code",
      "source": [
        "for name in lista_cleaned:\n",
        "  # if name == \"\":\n",
        "  #   print(\"este elemento es vacio\")\n",
        "  # else:\n",
        "  #   solo_nombre = name.split(\"  \")[1]\n",
        "  #   solo_nombre_no_spaces = solo_nombre.strip().lower()\n",
        "  #   lista_completamente_limpia.append(solo_nombre_no_spaces)\n",
        "  # if name != \"\":\n",
        "  #   solo_nombre = name.split(\"  \")[1]\n",
        "  #   solo_nombre_no_spaces = solo_nombre.strip().lower()\n",
        "  #   lista_completamente_limpia.append(solo_nombre_no_spaces)\n",
        "\n",
        "  limpiador_de_texto(name, lista_completamente_limpia)"
      ],
      "metadata": {
        "id": "hjZZT2KRWEDA"
      },
      "execution_count": 211,
      "outputs": []
    },
    {
      "cell_type": "code",
      "source": [
        "lista_completamente_limpia"
      ],
      "metadata": {
        "colab": {
          "base_uri": "https://localhost:8080/"
        },
        "id": "Bk8qhDidNcxE",
        "outputId": "b219939a-de2e-4339-ea93-b9ee3012ebd3"
      },
      "execution_count": 212,
      "outputs": [
        {
          "output_type": "execute_result",
          "data": {
            "text/plain": [
              "['hugo',\n",
              " 'martín',\n",
              " 'lucas',\n",
              " 'mateo',\n",
              " 'leo',\n",
              " 'daniel',\n",
              " 'alejandro',\n",
              " 'pablo',\n",
              " 'manuel',\n",
              " 'álvaro',\n",
              " 'adrián',\n",
              " 'david',\n",
              " 'mario',\n",
              " 'hugo',\n",
              " 'martín',\n",
              " 'lucas',\n",
              " 'mateo',\n",
              " 'leo',\n",
              " 'daniel',\n",
              " 'alejandro',\n",
              " 'pablo',\n",
              " 'manuel',\n",
              " 'álvaro',\n",
              " 'adrián',\n",
              " 'david',\n",
              " 'mario',\n",
              " 'hugo',\n",
              " 'martín',\n",
              " 'lucas',\n",
              " 'mateo',\n",
              " 'leo',\n",
              " 'daniel',\n",
              " 'alejandro',\n",
              " 'pablo',\n",
              " 'manuel',\n",
              " 'álvaro',\n",
              " 'adrián',\n",
              " 'david',\n",
              " 'mario']"
            ]
          },
          "metadata": {},
          "execution_count": 212
        }
      ]
    },
    {
      "cell_type": "code",
      "source": [
        "for name in lista_cleaned:\n",
        "  # if name == \"\":\n",
        "  #   print(\"este elemento es vacio\")\n",
        "  # else:\n",
        "  #   solo_nombre = name.split(\"  \")[1]\n",
        "  #   solo_nombre_no_spaces = solo_nombre.strip().lower()\n",
        "  #   lista_completamente_limpia.append(solo_nombre_no_spaces)\n",
        "  # if name != \"\":\n",
        "  #   solo_nombre = name.split(\"  \")[1]\n",
        "  #   solo_nombre_no_spaces = solo_nombre.strip().lower()\n",
        "  #   lista_completamente_limpia.append(solo_nombre_no_spaces)\n",
        "\n",
        "  limpiador_de_texto(name, lista_completamente_limpia)"
      ],
      "metadata": {
        "id": "eHICrV4dQMV2"
      },
      "execution_count": 213,
      "outputs": []
    },
    {
      "cell_type": "code",
      "source": [
        "karla_negocio_nombres = []"
      ],
      "metadata": {
        "id": "1WiHoJrrQrXI"
      },
      "execution_count": 214,
      "outputs": []
    },
    {
      "cell_type": "code",
      "source": [
        "new_lista_nombre_karla = \"\"\"\n",
        "101.  Abel\n",
        "102.  Adrián\n",
        "103.  Alejandro\n",
        "104.  Ángel\n",
        "105.  Carlos\n",
        "106.  César\n",
        "107.  Bruno\n",
        "108.  Daniel\n",
        "109.  Darío\n",
        "110.  David\n",
        "111.  Diego\n",
        "112.  Emilio\n",
        "113.  Fabián\n",
        "114.  Felipe\n",
        "115.  Gabriel\n",
        "116.  Héctor\n",
        "117.  Hugo\n",
        "118.  Jacobo\n",
        "119.  Jaime\n",
        "120.  Joaquín\n",
        "121.  Juan\n",
        "122.  Leonardo\n",
        "123.  Leo\n",
        "124.  Lucas\n",
        "125.  Marcos\n",
        "126.  Martín\n",
        "127.  Mateo\n",
        "128.  Matías\n",
        "129.  Miguel\n",
        "130.  Nicolás\n",
        "131.  Pablo\n",
        "132.  Raúl\n",
        "133.  Samuel\n",
        "134.  Santiago\n",
        "135.  Sebastián\n",
        "136.  Tomás\n",
        "137.  Tristán\n",
        "138.  Joan\n",
        "139.  Andrés\n",
        "140.  Ricardo\n",
        "141.  Manuel\n",
        "142.  Ezequiel\n",
        "143.  Francisco\n",
        "144.  Elías\n",
        "145.  Blas\n",
        "146.  Alfonso\n",
        "147.  Ulises\n",
        "148.  Gerardo\n",
        "149.  Alfredo\n",
        "150.  Álvaro\n",
        "151.  Amadeo\n",
        "152.  Amancio\n",
        "153.  Antonio\n",
        "154.  Baltasar\n",
        "155.  Beltrán\n",
        "156.  Benito\n",
        "157.  Rufino\n",
        "158.  Boris\n",
        "159.  Camilo\n",
        "160.  Ciro\n",
        "161.  Conrado\n",
        "\"\"\"\n",
        "\n",
        "new_lista_nombre_karla = new_lista_nombre_karla.split(\"\\n\")\n",
        "print(new_lista_nombre_karla)\n"
      ],
      "metadata": {
        "colab": {
          "base_uri": "https://localhost:8080/"
        },
        "id": "H7xWWnBBWQ6Q",
        "outputId": "9d8b3e2c-8e0a-4beb-97f9-0bcb5622c265"
      },
      "execution_count": 215,
      "outputs": [
        {
          "output_type": "stream",
          "name": "stdout",
          "text": [
            "['', '101.  Abel', '102.  Adrián', '103.  Alejandro', '104.  Ángel', '105.  Carlos', '106.  César', '107.  Bruno', '108.  Daniel', '109.  Darío', '110.  David', '111.  Diego', '112.  Emilio', '113.  Fabián', '114.  Felipe', '115.  Gabriel', '116.  Héctor', '117.  Hugo', '118.  Jacobo', '119.  Jaime', '120.  Joaquín', '121.  Juan', '122.  Leonardo', '123.  Leo', '124.  Lucas', '125.  Marcos', '126.  Martín', '127.  Mateo', '128.  Matías', '129.  Miguel', '130.  Nicolás', '131.  Pablo', '132.  Raúl', '133.  Samuel', '134.  Santiago', '135.  Sebastián', '136.  Tomás', '137.  Tristán', '138.  Joan', '139.  Andrés', '140.  Ricardo', '141.  Manuel', '142.  Ezequiel', '143.  Francisco', '144.  Elías', '145.  Blas', '146.  Alfonso', '147.  Ulises', '148.  Gerardo', '149.  Alfredo', '150.  Álvaro', '151.  Amadeo', '152.  Amancio', '153.  Antonio', '154.  Baltasar', '155.  Beltrán', '156.  Benito', '157.  Rufino', '158.  Boris', '159.  Camilo', '160.  Ciro', '161.  Conrado', '']\n"
          ]
        }
      ]
    },
    {
      "cell_type": "code",
      "source": [
        "for karla_name in new_lista_nombre_karla:\n",
        "    limpiador_de_texto(karla_name,karla_negocio_nombres)"
      ],
      "metadata": {
        "id": "GV-JEGMKQw4q"
      },
      "execution_count": 216,
      "outputs": []
    },
    {
      "cell_type": "code",
      "source": [
        "karla_negocio_nombres"
      ],
      "metadata": {
        "colab": {
          "base_uri": "https://localhost:8080/"
        },
        "id": "owy4aPvISLhQ",
        "outputId": "a58f7bd4-69e8-41ff-c002-cbf2d1e63da1"
      },
      "execution_count": 217,
      "outputs": [
        {
          "output_type": "execute_result",
          "data": {
            "text/plain": [
              "['abel',\n",
              " 'adrián',\n",
              " 'alejandro',\n",
              " 'ángel',\n",
              " 'carlos',\n",
              " 'césar',\n",
              " 'bruno',\n",
              " 'daniel',\n",
              " 'darío',\n",
              " 'david',\n",
              " 'diego',\n",
              " 'emilio',\n",
              " 'fabián',\n",
              " 'felipe',\n",
              " 'gabriel',\n",
              " 'héctor',\n",
              " 'hugo',\n",
              " 'jacobo',\n",
              " 'jaime',\n",
              " 'joaquín',\n",
              " 'juan',\n",
              " 'leonardo',\n",
              " 'leo',\n",
              " 'lucas',\n",
              " 'marcos',\n",
              " 'martín',\n",
              " 'mateo',\n",
              " 'matías',\n",
              " 'miguel',\n",
              " 'nicolás',\n",
              " 'pablo',\n",
              " 'raúl',\n",
              " 'samuel',\n",
              " 'santiago',\n",
              " 'sebastián',\n",
              " 'tomás',\n",
              " 'tristán',\n",
              " 'joan',\n",
              " 'andrés',\n",
              " 'ricardo',\n",
              " 'manuel',\n",
              " 'ezequiel',\n",
              " 'francisco',\n",
              " 'elías',\n",
              " 'blas',\n",
              " 'alfonso',\n",
              " 'ulises',\n",
              " 'gerardo',\n",
              " 'alfredo',\n",
              " 'álvaro',\n",
              " 'amadeo',\n",
              " 'amancio',\n",
              " 'antonio',\n",
              " 'baltasar',\n",
              " 'beltrán',\n",
              " 'benito',\n",
              " 'rufino',\n",
              " 'boris',\n",
              " 'camilo',\n",
              " 'ciro',\n",
              " 'conrado']"
            ]
          },
          "metadata": {},
          "execution_count": 217
        }
      ]
    },
    {
      "cell_type": "code",
      "source": [
        "class LimpiadorTexto:\n",
        "\n",
        "  def __init__(self, texto_limpiar):\n",
        "      self.texto = texto_limpiar\n",
        "      self.texto_limpio = []\n",
        "\n",
        "  def split_texto(self):\n",
        "     self.texto = self.texto.split(\"\\n\")\n",
        "\n",
        "  def limpiador_de_texto(self, text):\n",
        "    if text != \"\":\n",
        "        solo_nombre = text.split(\"  \")[1]\n",
        "        solo_nombre_no_spaces = solo_nombre.strip().lower()\n",
        "        self.texto_limpio.append(solo_nombre_no_spaces)\n",
        "\n",
        "\n",
        "  def limpiar_all_text(self):\n",
        "    self.split_texto()\n",
        "    for text in self.texto:\n",
        "      self.limpiador_de_texto(text)\n",
        "\n",
        "  def execute(self):\n",
        "    self.limpiar_all_text()\n",
        "    return self.texto_limpio\n",
        "\n",
        "  def execute_no_repeat(self):\n",
        "    return set(self.texto_limpio)"
      ],
      "metadata": {
        "id": "778IBulBVclk"
      },
      "execution_count": 240,
      "outputs": []
    },
    {
      "cell_type": "code",
      "source": [
        "new_lista_nombre_karla = \"\"\"\n",
        "101.  Abel\n",
        "102.  Adrián\n",
        "103.  Alejandro\n",
        "104.  Ángel\n",
        "105.  Carlos\n",
        "106.  César\n",
        "107.  Bruno\n",
        "108.  Daniel\n",
        "109.  Darío\n",
        "110.  David\n",
        "111.  Diego\n",
        "112.  Emilio\n",
        "113.  Fabián\n",
        "114.  Felipe\n",
        "115.  Gabriel\n",
        "116.  Héctor\n",
        "117.  Hugo\n",
        "118.  Jacobo\n",
        "119.  Jaime\n",
        "120.  Joaquín\n",
        "121.  Juan\n",
        "122.  Leonardo\n",
        "123.  Leo\n",
        "124.  Lucas\n",
        "125.  Marcos\n",
        "126.  Martín\n",
        "127.  Mateo\n",
        "128.  Matías\n",
        "129.  Miguel\n",
        "130.  Nicolás\n",
        "131.  Pablo\n",
        "132.  Raúl\n",
        "133.  Samuel\n",
        "134.  Santiago\n",
        "135.  Sebastián\n",
        "136.  Tomás\n",
        "137.  Tristán\n",
        "138.  Joan\n",
        "139.  Andrés\n",
        "140.  Ricardo\n",
        "141.  Manuel\n",
        "142.  Ezequiel\n",
        "143.  Francisco\n",
        "144.  Elías\n",
        "145.  Blas\n",
        "146.  Alfonso\n",
        "147.  Ulises\n",
        "148.  Gerardo\n",
        "132.  Raúl\n",
        "149.  Alfredo\n",
        "150.  Álvaro\n",
        "151.  Amadeo\n",
        "152.  Amancio\n",
        "153.  Antonio\n",
        "154.  Baltasar\n",
        "155.  Beltrán\n",
        "156.  Benito\n",
        "157.  Rufino\n",
        "158.  Boris\n",
        "159.  Camilo\n",
        "160.  Ciro\n",
        "161.  Conrado\n",
        "\"\"\""
      ],
      "metadata": {
        "id": "0HeybNeIbF_d"
      },
      "execution_count": 241,
      "outputs": []
    },
    {
      "cell_type": "code",
      "source": [
        "cleaner_karla = LimpiadorTexto(new_lista_nombre_karla)"
      ],
      "metadata": {
        "id": "5L9cLWq6aeQB"
      },
      "execution_count": 242,
      "outputs": []
    },
    {
      "cell_type": "code",
      "source": [
        "list_nueva_prod = cleaner_karla.execute()"
      ],
      "metadata": {
        "id": "S0IRzchFatBa"
      },
      "execution_count": 243,
      "outputs": []
    },
    {
      "cell_type": "code",
      "source": [
        "print(list_nueva_prod)"
      ],
      "metadata": {
        "colab": {
          "base_uri": "https://localhost:8080/"
        },
        "id": "sfGYmgaObK-q",
        "outputId": "2d032aaa-960d-46ad-f80e-7d53fbd2c314"
      },
      "execution_count": 247,
      "outputs": [
        {
          "output_type": "stream",
          "name": "stdout",
          "text": [
            "['abel', 'adrián', 'alejandro', 'ángel', 'carlos', 'césar', 'bruno', 'daniel', 'darío', 'david', 'diego', 'emilio', 'fabián', 'felipe', 'gabriel', 'héctor', 'hugo', 'jacobo', 'jaime', 'joaquín', 'juan', 'leonardo', 'leo', 'lucas', 'marcos', 'martín', 'mateo', 'matías', 'miguel', 'nicolás', 'pablo', 'raúl', 'samuel', 'santiago', 'sebastián', 'tomás', 'tristán', 'joan', 'andrés', 'ricardo', 'manuel', 'ezequiel', 'francisco', 'elías', 'blas', 'alfonso', 'ulises', 'gerardo', 'raúl', 'alfredo', 'álvaro', 'amadeo', 'amancio', 'antonio', 'baltasar', 'beltrán', 'benito', 'rufino', 'boris', 'camilo', 'ciro', 'conrado']\n"
          ]
        }
      ]
    },
    {
      "cell_type": "code",
      "source": [
        "print(cleaner_karla.execute_no_repeat())"
      ],
      "metadata": {
        "colab": {
          "base_uri": "https://localhost:8080/"
        },
        "id": "VzuTuEr8bfsr",
        "outputId": "0d99693b-94ed-4b69-8bf3-c3f11f6306a8"
      },
      "execution_count": 248,
      "outputs": [
        {
          "output_type": "stream",
          "name": "stdout",
          "text": [
            "{'césar', 'gerardo', 'abel', 'amancio', 'antonio', 'rufino', 'ciro', 'carlos', 'raúl', 'álvaro', 'juan', 'emilio', 'elías', 'alfredo', 'gabriel', 'lucas', 'bruno', 'camilo', 'andrés', 'alfonso', 'joaquín', 'joan', 'amadeo', 'alejandro', 'leonardo', 'blas', 'matías', 'boris', 'nicolás', 'sebastián', 'hugo', 'darío', 'felipe', 'ulises', 'marcos', 'mateo', 'ricardo', 'francisco', 'ezequiel', 'jaime', 'adrián', 'david', 'fabián', 'martín', 'tristán', 'pablo', 'benito', 'tomás', 'samuel', 'ángel', 'miguel', 'beltrán', 'baltasar', 'diego', 'daniel', 'héctor', 'conrado', 'leo', 'jacobo', 'manuel', 'santiago'}\n"
          ]
        }
      ]
    },
    {
      "cell_type": "code",
      "source": [
        "print(len(list_nueva_prod))"
      ],
      "metadata": {
        "colab": {
          "base_uri": "https://localhost:8080/"
        },
        "id": "vQjNEEZIdKTW",
        "outputId": "02d74c6b-1e2a-4ac0-d97a-24607b97aa97"
      },
      "execution_count": 250,
      "outputs": [
        {
          "output_type": "stream",
          "name": "stdout",
          "text": [
            "62\n"
          ]
        }
      ]
    },
    {
      "cell_type": "code",
      "source": [
        "print(len(cleaner_karla.execute_no_repeat()))"
      ],
      "metadata": {
        "colab": {
          "base_uri": "https://localhost:8080/"
        },
        "id": "xzlX8fqJdPDu",
        "outputId": "73eb4186-4edb-4e14-99d1-c6c3a931d070"
      },
      "execution_count": 251,
      "outputs": [
        {
          "output_type": "stream",
          "name": "stdout",
          "text": [
            "61\n"
          ]
        }
      ]
    }
  ]
}